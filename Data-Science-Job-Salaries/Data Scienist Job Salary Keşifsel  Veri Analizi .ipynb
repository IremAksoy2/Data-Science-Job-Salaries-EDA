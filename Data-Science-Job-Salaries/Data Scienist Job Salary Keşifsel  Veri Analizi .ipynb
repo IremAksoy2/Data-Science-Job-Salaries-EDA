{
 "cells": [
  {
   "cell_type": "markdown",
   "id": "6b62e4f1",
   "metadata": {},
   "source": [
    "## DATA SCIENCE JOB SALARIES VERİ SETİ İNCELEMESİ"
   ]
  },
  {
   "cell_type": "markdown",
   "id": "46e7e8b9",
   "metadata": {},
   "source": [
    "## Veri seti hikayesi"
   ]
  },
  {
   "cell_type": "markdown",
   "id": "9fe858a0",
   "metadata": {},
   "source": [
    "https://www.kaggle.com/datasets/ruchi798/data-science-job-salaries?resource=download\n",
    "Veri seti veri bilimi alanında çalışan insanların yıl boyunca aldıkları maaş bilgisini içermektedir.\n",
    "Aşağıda veri setinde bulunan genel bilgiler verilmektedir.\n",
    "\n",
    "- work_year (maaşın ödendiği yıl)\n",
    "- experience_level (Deneyim seviyesi EN-Başlangıç seviyesi, MI-Orta seviye, SE-Kıdemli seviye, Uzman EX-yönetici seviyesi)\n",
    "- employment_type (Rol içi istihdam türü. PT-yarı zamanlı, FT-Tam zamanlı, CT-sözleşmeli, FL serbest çalışan)\n",
    "- job_title (Yıl boyunca çalışılan rol)\n",
    "- salary (Ödenen toplam brüt maaş tutarı)\n",
    "- salary_currency (Ödenen maaşın para birimi ISO 4217 para birimi kodudur.)\n",
    "- salary_in_usd (ABD doları cinsinden maaş (Döviz kurunun ilgili yılın ortalama ABD doları kuruna bölünmesiyle elde edilen değer, fxdata.foorilla.com'dur).)\n",
    "- employee_residence (Çalışanın çalışma yılı boyunca ikamet ettiği birincil ülke ISO 3166 ülke kodudur.)\n",
    "- remote_radio (Uzaktan yapılan toplam iş miktarı, olası değerler şu şekildedir: 0 Uzaktan çalışma yok (%20'den az) 50 Kısmen uzaktan 100 Tamamen uzaktan (%80'den fazla))\n",
    "- company_location (İşverenin merkez ofisinin veya sözleşmeli şubesinin bulunduğu ülke ISO 3166 ülke kodu olarak belirtilir)\n",
    "- company_size (Yıl boyunca şirkette çalışan ortalama kişi sayısı: S 50'den az çalışan (küçük) M 50 ila 250 çalışan (orta) L 250'den fazla çalışan (büyük))\n"
   ]
  },
  {
   "cell_type": "markdown",
   "id": "973565de",
   "metadata": {},
   "source": [
    "###  1.Veri seti hakkında genel bilgiler"
   ]
  },
  {
   "cell_type": "markdown",
   "id": "19724536",
   "metadata": {},
   "source": [
    "Veri setini dosyadan okuma işlemi yapılır. Bu işlem için Python pandas kütüphanesi kullanılmaktadır. Pandas kütüphane olarak\n",
    "veri bilimi ve makine öğrenmesinde sıkça kullanılan bir araçtır.Pandas veri dosyası okuma (read_csv,read_excel), tablo yapısı oluşturmak(DataFrame), eksik-hatalı verileri temizlemek (dropna,fillna), veriyi gruplamak ve analiz etmek (groupby, agg), veriyi görselleştirmeye hazırlamak (sort,filter,pivot) gibi birçok alanda kullanılmaktadır."
   ]
  },
  {
   "cell_type": "code",
   "execution_count": 2,
   "id": "82941896",
   "metadata": {},
   "outputs": [],
   "source": [
    "import pandas as pd \n",
    "ds_salaries=pd.read_csv(\"archive/ds_salaries.csv\") #veri seti dosyadan okundu"
   ]
  },
  {
   "cell_type": "code",
   "execution_count": 3,
   "id": "d3d485a5",
   "metadata": {},
   "outputs": [
    {
     "data": {
      "text/html": [
       "<div>\n",
       "<style scoped>\n",
       "    .dataframe tbody tr th:only-of-type {\n",
       "        vertical-align: middle;\n",
       "    }\n",
       "\n",
       "    .dataframe tbody tr th {\n",
       "        vertical-align: top;\n",
       "    }\n",
       "\n",
       "    .dataframe thead th {\n",
       "        text-align: right;\n",
       "    }\n",
       "</style>\n",
       "<table border=\"1\" class=\"dataframe\">\n",
       "  <thead>\n",
       "    <tr style=\"text-align: right;\">\n",
       "      <th></th>\n",
       "      <th>Unnamed: 0</th>\n",
       "      <th>work_year</th>\n",
       "      <th>experience_level</th>\n",
       "      <th>employment_type</th>\n",
       "      <th>job_title</th>\n",
       "      <th>salary</th>\n",
       "      <th>salary_currency</th>\n",
       "      <th>salary_in_usd</th>\n",
       "      <th>employee_residence</th>\n",
       "      <th>remote_ratio</th>\n",
       "      <th>company_location</th>\n",
       "      <th>company_size</th>\n",
       "    </tr>\n",
       "  </thead>\n",
       "  <tbody>\n",
       "    <tr>\n",
       "      <th>0</th>\n",
       "      <td>0</td>\n",
       "      <td>2020</td>\n",
       "      <td>MI</td>\n",
       "      <td>FT</td>\n",
       "      <td>Data Scientist</td>\n",
       "      <td>70000</td>\n",
       "      <td>EUR</td>\n",
       "      <td>79833</td>\n",
       "      <td>DE</td>\n",
       "      <td>0</td>\n",
       "      <td>DE</td>\n",
       "      <td>L</td>\n",
       "    </tr>\n",
       "    <tr>\n",
       "      <th>1</th>\n",
       "      <td>1</td>\n",
       "      <td>2020</td>\n",
       "      <td>SE</td>\n",
       "      <td>FT</td>\n",
       "      <td>Machine Learning Scientist</td>\n",
       "      <td>260000</td>\n",
       "      <td>USD</td>\n",
       "      <td>260000</td>\n",
       "      <td>JP</td>\n",
       "      <td>0</td>\n",
       "      <td>JP</td>\n",
       "      <td>S</td>\n",
       "    </tr>\n",
       "    <tr>\n",
       "      <th>2</th>\n",
       "      <td>2</td>\n",
       "      <td>2020</td>\n",
       "      <td>SE</td>\n",
       "      <td>FT</td>\n",
       "      <td>Big Data Engineer</td>\n",
       "      <td>85000</td>\n",
       "      <td>GBP</td>\n",
       "      <td>109024</td>\n",
       "      <td>GB</td>\n",
       "      <td>50</td>\n",
       "      <td>GB</td>\n",
       "      <td>M</td>\n",
       "    </tr>\n",
       "    <tr>\n",
       "      <th>3</th>\n",
       "      <td>3</td>\n",
       "      <td>2020</td>\n",
       "      <td>MI</td>\n",
       "      <td>FT</td>\n",
       "      <td>Product Data Analyst</td>\n",
       "      <td>20000</td>\n",
       "      <td>USD</td>\n",
       "      <td>20000</td>\n",
       "      <td>HN</td>\n",
       "      <td>0</td>\n",
       "      <td>HN</td>\n",
       "      <td>S</td>\n",
       "    </tr>\n",
       "    <tr>\n",
       "      <th>4</th>\n",
       "      <td>4</td>\n",
       "      <td>2020</td>\n",
       "      <td>SE</td>\n",
       "      <td>FT</td>\n",
       "      <td>Machine Learning Engineer</td>\n",
       "      <td>150000</td>\n",
       "      <td>USD</td>\n",
       "      <td>150000</td>\n",
       "      <td>US</td>\n",
       "      <td>50</td>\n",
       "      <td>US</td>\n",
       "      <td>L</td>\n",
       "    </tr>\n",
       "    <tr>\n",
       "      <th>...</th>\n",
       "      <td>...</td>\n",
       "      <td>...</td>\n",
       "      <td>...</td>\n",
       "      <td>...</td>\n",
       "      <td>...</td>\n",
       "      <td>...</td>\n",
       "      <td>...</td>\n",
       "      <td>...</td>\n",
       "      <td>...</td>\n",
       "      <td>...</td>\n",
       "      <td>...</td>\n",
       "      <td>...</td>\n",
       "    </tr>\n",
       "    <tr>\n",
       "      <th>602</th>\n",
       "      <td>602</td>\n",
       "      <td>2022</td>\n",
       "      <td>SE</td>\n",
       "      <td>FT</td>\n",
       "      <td>Data Engineer</td>\n",
       "      <td>154000</td>\n",
       "      <td>USD</td>\n",
       "      <td>154000</td>\n",
       "      <td>US</td>\n",
       "      <td>100</td>\n",
       "      <td>US</td>\n",
       "      <td>M</td>\n",
       "    </tr>\n",
       "    <tr>\n",
       "      <th>603</th>\n",
       "      <td>603</td>\n",
       "      <td>2022</td>\n",
       "      <td>SE</td>\n",
       "      <td>FT</td>\n",
       "      <td>Data Engineer</td>\n",
       "      <td>126000</td>\n",
       "      <td>USD</td>\n",
       "      <td>126000</td>\n",
       "      <td>US</td>\n",
       "      <td>100</td>\n",
       "      <td>US</td>\n",
       "      <td>M</td>\n",
       "    </tr>\n",
       "    <tr>\n",
       "      <th>604</th>\n",
       "      <td>604</td>\n",
       "      <td>2022</td>\n",
       "      <td>SE</td>\n",
       "      <td>FT</td>\n",
       "      <td>Data Analyst</td>\n",
       "      <td>129000</td>\n",
       "      <td>USD</td>\n",
       "      <td>129000</td>\n",
       "      <td>US</td>\n",
       "      <td>0</td>\n",
       "      <td>US</td>\n",
       "      <td>M</td>\n",
       "    </tr>\n",
       "    <tr>\n",
       "      <th>605</th>\n",
       "      <td>605</td>\n",
       "      <td>2022</td>\n",
       "      <td>SE</td>\n",
       "      <td>FT</td>\n",
       "      <td>Data Analyst</td>\n",
       "      <td>150000</td>\n",
       "      <td>USD</td>\n",
       "      <td>150000</td>\n",
       "      <td>US</td>\n",
       "      <td>100</td>\n",
       "      <td>US</td>\n",
       "      <td>M</td>\n",
       "    </tr>\n",
       "    <tr>\n",
       "      <th>606</th>\n",
       "      <td>606</td>\n",
       "      <td>2022</td>\n",
       "      <td>MI</td>\n",
       "      <td>FT</td>\n",
       "      <td>AI Scientist</td>\n",
       "      <td>200000</td>\n",
       "      <td>USD</td>\n",
       "      <td>200000</td>\n",
       "      <td>IN</td>\n",
       "      <td>100</td>\n",
       "      <td>US</td>\n",
       "      <td>L</td>\n",
       "    </tr>\n",
       "  </tbody>\n",
       "</table>\n",
       "<p>607 rows × 12 columns</p>\n",
       "</div>"
      ],
      "text/plain": [
       "     Unnamed: 0  work_year experience_level employment_type  \\\n",
       "0             0       2020               MI              FT   \n",
       "1             1       2020               SE              FT   \n",
       "2             2       2020               SE              FT   \n",
       "3             3       2020               MI              FT   \n",
       "4             4       2020               SE              FT   \n",
       "..          ...        ...              ...             ...   \n",
       "602         602       2022               SE              FT   \n",
       "603         603       2022               SE              FT   \n",
       "604         604       2022               SE              FT   \n",
       "605         605       2022               SE              FT   \n",
       "606         606       2022               MI              FT   \n",
       "\n",
       "                      job_title  salary salary_currency  salary_in_usd  \\\n",
       "0                Data Scientist   70000             EUR          79833   \n",
       "1    Machine Learning Scientist  260000             USD         260000   \n",
       "2             Big Data Engineer   85000             GBP         109024   \n",
       "3          Product Data Analyst   20000             USD          20000   \n",
       "4     Machine Learning Engineer  150000             USD         150000   \n",
       "..                          ...     ...             ...            ...   \n",
       "602               Data Engineer  154000             USD         154000   \n",
       "603               Data Engineer  126000             USD         126000   \n",
       "604                Data Analyst  129000             USD         129000   \n",
       "605                Data Analyst  150000             USD         150000   \n",
       "606                AI Scientist  200000             USD         200000   \n",
       "\n",
       "    employee_residence  remote_ratio company_location company_size  \n",
       "0                   DE             0               DE            L  \n",
       "1                   JP             0               JP            S  \n",
       "2                   GB            50               GB            M  \n",
       "3                   HN             0               HN            S  \n",
       "4                   US            50               US            L  \n",
       "..                 ...           ...              ...          ...  \n",
       "602                 US           100               US            M  \n",
       "603                 US           100               US            M  \n",
       "604                 US             0               US            M  \n",
       "605                 US           100               US            M  \n",
       "606                 IN           100               US            L  \n",
       "\n",
       "[607 rows x 12 columns]"
      ]
     },
     "execution_count": 3,
     "metadata": {},
     "output_type": "execute_result"
    }
   ],
   "source": [
    "ds_salaries"
   ]
  },
  {
   "cell_type": "code",
   "execution_count": 4,
   "id": "fd0d324a",
   "metadata": {},
   "outputs": [
    {
     "name": "stdout",
     "output_type": "stream",
     "text": [
      "<class 'pandas.core.frame.DataFrame'>\n",
      "RangeIndex: 607 entries, 0 to 606\n",
      "Data columns (total 12 columns):\n",
      " #   Column              Non-Null Count  Dtype \n",
      "---  ------              --------------  ----- \n",
      " 0   Unnamed: 0          607 non-null    int64 \n",
      " 1   work_year           607 non-null    int64 \n",
      " 2   experience_level    607 non-null    object\n",
      " 3   employment_type     607 non-null    object\n",
      " 4   job_title           607 non-null    object\n",
      " 5   salary              607 non-null    int64 \n",
      " 6   salary_currency     607 non-null    object\n",
      " 7   salary_in_usd       607 non-null    int64 \n",
      " 8   employee_residence  607 non-null    object\n",
      " 9   remote_ratio        607 non-null    int64 \n",
      " 10  company_location    607 non-null    object\n",
      " 11  company_size        607 non-null    object\n",
      "dtypes: int64(5), object(7)\n",
      "memory usage: 57.0+ KB\n"
     ]
    }
   ],
   "source": [
    "df=ds_salaries.copy() # orijinal veri setinin bozulmaması için bir kopya oluşturuldu.\n",
    "df.info()"
   ]
  },
  {
   "cell_type": "code",
   "execution_count": 5,
   "id": "172e6e75",
   "metadata": {},
   "outputs": [
    {
     "data": {
      "text/html": [
       "<div>\n",
       "<style scoped>\n",
       "    .dataframe tbody tr th:only-of-type {\n",
       "        vertical-align: middle;\n",
       "    }\n",
       "\n",
       "    .dataframe tbody tr th {\n",
       "        vertical-align: top;\n",
       "    }\n",
       "\n",
       "    .dataframe thead th {\n",
       "        text-align: right;\n",
       "    }\n",
       "</style>\n",
       "<table border=\"1\" class=\"dataframe\">\n",
       "  <thead>\n",
       "    <tr style=\"text-align: right;\">\n",
       "      <th></th>\n",
       "      <th>Unnamed: 0</th>\n",
       "      <th>work_year</th>\n",
       "      <th>experience_level</th>\n",
       "      <th>employment_type</th>\n",
       "      <th>job_title</th>\n",
       "      <th>salary</th>\n",
       "      <th>salary_currency</th>\n",
       "      <th>salary_in_usd</th>\n",
       "      <th>employee_residence</th>\n",
       "      <th>remote_ratio</th>\n",
       "      <th>company_location</th>\n",
       "      <th>company_size</th>\n",
       "    </tr>\n",
       "  </thead>\n",
       "  <tbody>\n",
       "    <tr>\n",
       "      <th>0</th>\n",
       "      <td>0</td>\n",
       "      <td>2020</td>\n",
       "      <td>MI</td>\n",
       "      <td>FT</td>\n",
       "      <td>Data Scientist</td>\n",
       "      <td>70000</td>\n",
       "      <td>EUR</td>\n",
       "      <td>79833</td>\n",
       "      <td>DE</td>\n",
       "      <td>0</td>\n",
       "      <td>DE</td>\n",
       "      <td>L</td>\n",
       "    </tr>\n",
       "    <tr>\n",
       "      <th>1</th>\n",
       "      <td>1</td>\n",
       "      <td>2020</td>\n",
       "      <td>SE</td>\n",
       "      <td>FT</td>\n",
       "      <td>Machine Learning Scientist</td>\n",
       "      <td>260000</td>\n",
       "      <td>USD</td>\n",
       "      <td>260000</td>\n",
       "      <td>JP</td>\n",
       "      <td>0</td>\n",
       "      <td>JP</td>\n",
       "      <td>S</td>\n",
       "    </tr>\n",
       "    <tr>\n",
       "      <th>2</th>\n",
       "      <td>2</td>\n",
       "      <td>2020</td>\n",
       "      <td>SE</td>\n",
       "      <td>FT</td>\n",
       "      <td>Big Data Engineer</td>\n",
       "      <td>85000</td>\n",
       "      <td>GBP</td>\n",
       "      <td>109024</td>\n",
       "      <td>GB</td>\n",
       "      <td>50</td>\n",
       "      <td>GB</td>\n",
       "      <td>M</td>\n",
       "    </tr>\n",
       "    <tr>\n",
       "      <th>3</th>\n",
       "      <td>3</td>\n",
       "      <td>2020</td>\n",
       "      <td>MI</td>\n",
       "      <td>FT</td>\n",
       "      <td>Product Data Analyst</td>\n",
       "      <td>20000</td>\n",
       "      <td>USD</td>\n",
       "      <td>20000</td>\n",
       "      <td>HN</td>\n",
       "      <td>0</td>\n",
       "      <td>HN</td>\n",
       "      <td>S</td>\n",
       "    </tr>\n",
       "    <tr>\n",
       "      <th>4</th>\n",
       "      <td>4</td>\n",
       "      <td>2020</td>\n",
       "      <td>SE</td>\n",
       "      <td>FT</td>\n",
       "      <td>Machine Learning Engineer</td>\n",
       "      <td>150000</td>\n",
       "      <td>USD</td>\n",
       "      <td>150000</td>\n",
       "      <td>US</td>\n",
       "      <td>50</td>\n",
       "      <td>US</td>\n",
       "      <td>L</td>\n",
       "    </tr>\n",
       "  </tbody>\n",
       "</table>\n",
       "</div>"
      ],
      "text/plain": [
       "   Unnamed: 0  work_year experience_level employment_type  \\\n",
       "0           0       2020               MI              FT   \n",
       "1           1       2020               SE              FT   \n",
       "2           2       2020               SE              FT   \n",
       "3           3       2020               MI              FT   \n",
       "4           4       2020               SE              FT   \n",
       "\n",
       "                    job_title  salary salary_currency  salary_in_usd  \\\n",
       "0              Data Scientist   70000             EUR          79833   \n",
       "1  Machine Learning Scientist  260000             USD         260000   \n",
       "2           Big Data Engineer   85000             GBP         109024   \n",
       "3        Product Data Analyst   20000             USD          20000   \n",
       "4   Machine Learning Engineer  150000             USD         150000   \n",
       "\n",
       "  employee_residence  remote_ratio company_location company_size  \n",
       "0                 DE             0               DE            L  \n",
       "1                 JP             0               JP            S  \n",
       "2                 GB            50               GB            M  \n",
       "3                 HN             0               HN            S  \n",
       "4                 US            50               US            L  "
      ]
     },
     "execution_count": 5,
     "metadata": {},
     "output_type": "execute_result"
    }
   ],
   "source": [
    "df.head()"
   ]
  },
  {
   "cell_type": "code",
   "execution_count": 6,
   "id": "df18d10d",
   "metadata": {},
   "outputs": [
    {
     "data": {
      "text/html": [
       "<div>\n",
       "<style scoped>\n",
       "    .dataframe tbody tr th:only-of-type {\n",
       "        vertical-align: middle;\n",
       "    }\n",
       "\n",
       "    .dataframe tbody tr th {\n",
       "        vertical-align: top;\n",
       "    }\n",
       "\n",
       "    .dataframe thead th {\n",
       "        text-align: right;\n",
       "    }\n",
       "</style>\n",
       "<table border=\"1\" class=\"dataframe\">\n",
       "  <thead>\n",
       "    <tr style=\"text-align: right;\">\n",
       "      <th></th>\n",
       "      <th>Unnamed: 0</th>\n",
       "      <th>work_year</th>\n",
       "      <th>experience_level</th>\n",
       "      <th>employment_type</th>\n",
       "      <th>job_title</th>\n",
       "      <th>salary</th>\n",
       "      <th>salary_currency</th>\n",
       "      <th>salary_in_usd</th>\n",
       "      <th>employee_residence</th>\n",
       "      <th>remote_ratio</th>\n",
       "      <th>company_location</th>\n",
       "      <th>company_size</th>\n",
       "    </tr>\n",
       "  </thead>\n",
       "  <tbody>\n",
       "    <tr>\n",
       "      <th>602</th>\n",
       "      <td>602</td>\n",
       "      <td>2022</td>\n",
       "      <td>SE</td>\n",
       "      <td>FT</td>\n",
       "      <td>Data Engineer</td>\n",
       "      <td>154000</td>\n",
       "      <td>USD</td>\n",
       "      <td>154000</td>\n",
       "      <td>US</td>\n",
       "      <td>100</td>\n",
       "      <td>US</td>\n",
       "      <td>M</td>\n",
       "    </tr>\n",
       "    <tr>\n",
       "      <th>603</th>\n",
       "      <td>603</td>\n",
       "      <td>2022</td>\n",
       "      <td>SE</td>\n",
       "      <td>FT</td>\n",
       "      <td>Data Engineer</td>\n",
       "      <td>126000</td>\n",
       "      <td>USD</td>\n",
       "      <td>126000</td>\n",
       "      <td>US</td>\n",
       "      <td>100</td>\n",
       "      <td>US</td>\n",
       "      <td>M</td>\n",
       "    </tr>\n",
       "    <tr>\n",
       "      <th>604</th>\n",
       "      <td>604</td>\n",
       "      <td>2022</td>\n",
       "      <td>SE</td>\n",
       "      <td>FT</td>\n",
       "      <td>Data Analyst</td>\n",
       "      <td>129000</td>\n",
       "      <td>USD</td>\n",
       "      <td>129000</td>\n",
       "      <td>US</td>\n",
       "      <td>0</td>\n",
       "      <td>US</td>\n",
       "      <td>M</td>\n",
       "    </tr>\n",
       "    <tr>\n",
       "      <th>605</th>\n",
       "      <td>605</td>\n",
       "      <td>2022</td>\n",
       "      <td>SE</td>\n",
       "      <td>FT</td>\n",
       "      <td>Data Analyst</td>\n",
       "      <td>150000</td>\n",
       "      <td>USD</td>\n",
       "      <td>150000</td>\n",
       "      <td>US</td>\n",
       "      <td>100</td>\n",
       "      <td>US</td>\n",
       "      <td>M</td>\n",
       "    </tr>\n",
       "    <tr>\n",
       "      <th>606</th>\n",
       "      <td>606</td>\n",
       "      <td>2022</td>\n",
       "      <td>MI</td>\n",
       "      <td>FT</td>\n",
       "      <td>AI Scientist</td>\n",
       "      <td>200000</td>\n",
       "      <td>USD</td>\n",
       "      <td>200000</td>\n",
       "      <td>IN</td>\n",
       "      <td>100</td>\n",
       "      <td>US</td>\n",
       "      <td>L</td>\n",
       "    </tr>\n",
       "  </tbody>\n",
       "</table>\n",
       "</div>"
      ],
      "text/plain": [
       "     Unnamed: 0  work_year experience_level employment_type      job_title  \\\n",
       "602         602       2022               SE              FT  Data Engineer   \n",
       "603         603       2022               SE              FT  Data Engineer   \n",
       "604         604       2022               SE              FT   Data Analyst   \n",
       "605         605       2022               SE              FT   Data Analyst   \n",
       "606         606       2022               MI              FT   AI Scientist   \n",
       "\n",
       "     salary salary_currency  salary_in_usd employee_residence  remote_ratio  \\\n",
       "602  154000             USD         154000                 US           100   \n",
       "603  126000             USD         126000                 US           100   \n",
       "604  129000             USD         129000                 US             0   \n",
       "605  150000             USD         150000                 US           100   \n",
       "606  200000             USD         200000                 IN           100   \n",
       "\n",
       "    company_location company_size  \n",
       "602               US            M  \n",
       "603               US            M  \n",
       "604               US            M  \n",
       "605               US            M  \n",
       "606               US            L  "
      ]
     },
     "execution_count": 6,
     "metadata": {},
     "output_type": "execute_result"
    }
   ],
   "source": [
    "df.tail()"
   ]
  },
  {
   "cell_type": "markdown",
   "id": "4435cb35",
   "metadata": {},
   "source": [
    "## 1.1 Veri setindeki datatype'ı uygun bir veri tipine dönüştürme\n",
    "Veri analizi yapılırken doğru veri tipleri ile çalışmak makine öğrenmesi ve filtreleme, gruplandırma ve görselleştirmenin doğru olması açısından çok önemlidir. Veri analizinde 5 temel veri tipi vardır:\n",
    "- Numerical (int,float)\n",
    "- Categorical (object,category)\n",
    "- Text verileri (genellikle object türündedir.)\n",
    "- Datetime (datetime64)\n",
    "- Boolean (true,false,bool tipinde)"
   ]
  },
  {
   "cell_type": "code",
   "execution_count": 7,
   "id": "da422f3d",
   "metadata": {},
   "outputs": [],
   "source": [
    "df.rename(columns={\"Unnamed: 0\":\"unnamed\"} , inplace=True)"
   ]
  },
  {
   "cell_type": "code",
   "execution_count": 8,
   "id": "2c2aa6cb",
   "metadata": {},
   "outputs": [
    {
     "data": {
      "text/html": [
       "<div>\n",
       "<style scoped>\n",
       "    .dataframe tbody tr th:only-of-type {\n",
       "        vertical-align: middle;\n",
       "    }\n",
       "\n",
       "    .dataframe tbody tr th {\n",
       "        vertical-align: top;\n",
       "    }\n",
       "\n",
       "    .dataframe thead th {\n",
       "        text-align: right;\n",
       "    }\n",
       "</style>\n",
       "<table border=\"1\" class=\"dataframe\">\n",
       "  <thead>\n",
       "    <tr style=\"text-align: right;\">\n",
       "      <th></th>\n",
       "      <th>unnamed</th>\n",
       "      <th>work_year</th>\n",
       "      <th>experience_level</th>\n",
       "      <th>employment_type</th>\n",
       "      <th>job_title</th>\n",
       "      <th>salary</th>\n",
       "      <th>salary_currency</th>\n",
       "      <th>salary_in_usd</th>\n",
       "      <th>employee_residence</th>\n",
       "      <th>remote_ratio</th>\n",
       "      <th>company_location</th>\n",
       "      <th>company_size</th>\n",
       "    </tr>\n",
       "  </thead>\n",
       "  <tbody>\n",
       "    <tr>\n",
       "      <th>0</th>\n",
       "      <td>0</td>\n",
       "      <td>2020</td>\n",
       "      <td>MI</td>\n",
       "      <td>FT</td>\n",
       "      <td>Data Scientist</td>\n",
       "      <td>70000</td>\n",
       "      <td>EUR</td>\n",
       "      <td>79833</td>\n",
       "      <td>DE</td>\n",
       "      <td>0</td>\n",
       "      <td>DE</td>\n",
       "      <td>L</td>\n",
       "    </tr>\n",
       "    <tr>\n",
       "      <th>1</th>\n",
       "      <td>1</td>\n",
       "      <td>2020</td>\n",
       "      <td>SE</td>\n",
       "      <td>FT</td>\n",
       "      <td>Machine Learning Scientist</td>\n",
       "      <td>260000</td>\n",
       "      <td>USD</td>\n",
       "      <td>260000</td>\n",
       "      <td>JP</td>\n",
       "      <td>0</td>\n",
       "      <td>JP</td>\n",
       "      <td>S</td>\n",
       "    </tr>\n",
       "    <tr>\n",
       "      <th>2</th>\n",
       "      <td>2</td>\n",
       "      <td>2020</td>\n",
       "      <td>SE</td>\n",
       "      <td>FT</td>\n",
       "      <td>Big Data Engineer</td>\n",
       "      <td>85000</td>\n",
       "      <td>GBP</td>\n",
       "      <td>109024</td>\n",
       "      <td>GB</td>\n",
       "      <td>50</td>\n",
       "      <td>GB</td>\n",
       "      <td>M</td>\n",
       "    </tr>\n",
       "    <tr>\n",
       "      <th>3</th>\n",
       "      <td>3</td>\n",
       "      <td>2020</td>\n",
       "      <td>MI</td>\n",
       "      <td>FT</td>\n",
       "      <td>Product Data Analyst</td>\n",
       "      <td>20000</td>\n",
       "      <td>USD</td>\n",
       "      <td>20000</td>\n",
       "      <td>HN</td>\n",
       "      <td>0</td>\n",
       "      <td>HN</td>\n",
       "      <td>S</td>\n",
       "    </tr>\n",
       "    <tr>\n",
       "      <th>4</th>\n",
       "      <td>4</td>\n",
       "      <td>2020</td>\n",
       "      <td>SE</td>\n",
       "      <td>FT</td>\n",
       "      <td>Machine Learning Engineer</td>\n",
       "      <td>150000</td>\n",
       "      <td>USD</td>\n",
       "      <td>150000</td>\n",
       "      <td>US</td>\n",
       "      <td>50</td>\n",
       "      <td>US</td>\n",
       "      <td>L</td>\n",
       "    </tr>\n",
       "  </tbody>\n",
       "</table>\n",
       "</div>"
      ],
      "text/plain": [
       "   unnamed  work_year experience_level employment_type  \\\n",
       "0        0       2020               MI              FT   \n",
       "1        1       2020               SE              FT   \n",
       "2        2       2020               SE              FT   \n",
       "3        3       2020               MI              FT   \n",
       "4        4       2020               SE              FT   \n",
       "\n",
       "                    job_title  salary salary_currency  salary_in_usd  \\\n",
       "0              Data Scientist   70000             EUR          79833   \n",
       "1  Machine Learning Scientist  260000             USD         260000   \n",
       "2           Big Data Engineer   85000             GBP         109024   \n",
       "3        Product Data Analyst   20000             USD          20000   \n",
       "4   Machine Learning Engineer  150000             USD         150000   \n",
       "\n",
       "  employee_residence  remote_ratio company_location company_size  \n",
       "0                 DE             0               DE            L  \n",
       "1                 JP             0               JP            S  \n",
       "2                 GB            50               GB            M  \n",
       "3                 HN             0               HN            S  \n",
       "4                 US            50               US            L  "
      ]
     },
     "execution_count": 8,
     "metadata": {},
     "output_type": "execute_result"
    }
   ],
   "source": [
    "df.head()"
   ]
  },
  {
   "cell_type": "code",
   "execution_count": 9,
   "id": "b1e0eea5",
   "metadata": {},
   "outputs": [],
   "source": [
    "df.experience_level=pd.Categorical(df.experience_level)\n",
    "df.employment_type=pd.Categorical(df.employment_type)\n",
    "df.job_title=pd.Categorical(df.job_title)\n",
    "df.salary_currency=pd.Categorical(df.salary_currency)\n",
    "df.employee_residence=pd.Categorical(df.employee_residence)\n",
    "df.company_location=pd.Categorical(df.company_location)\n",
    "df.company_size=pd.Categorical(df.company_size)"
   ]
  },
  {
   "cell_type": "code",
   "execution_count": 10,
   "id": "1d8bfbb4",
   "metadata": {},
   "outputs": [
    {
     "name": "stdout",
     "output_type": "stream",
     "text": [
      "<class 'pandas.core.frame.DataFrame'>\n",
      "RangeIndex: 607 entries, 0 to 606\n",
      "Data columns (total 12 columns):\n",
      " #   Column              Non-Null Count  Dtype   \n",
      "---  ------              --------------  -----   \n",
      " 0   unnamed             607 non-null    int64   \n",
      " 1   work_year           607 non-null    int64   \n",
      " 2   experience_level    607 non-null    category\n",
      " 3   employment_type     607 non-null    category\n",
      " 4   job_title           607 non-null    category\n",
      " 5   salary              607 non-null    int64   \n",
      " 6   salary_currency     607 non-null    category\n",
      " 7   salary_in_usd       607 non-null    int64   \n",
      " 8   employee_residence  607 non-null    category\n",
      " 9   remote_ratio        607 non-null    int64   \n",
      " 10  company_location    607 non-null    category\n",
      " 11  company_size        607 non-null    category\n",
      "dtypes: category(7), int64(5)\n",
      "memory usage: 36.6 KB\n"
     ]
    }
   ],
   "source": [
    "df.info()"
   ]
  },
  {
   "cell_type": "markdown",
   "id": "00221cc0",
   "metadata": {},
   "source": [
    "## 2. Veri seti ile ilgili istatistikler "
   ]
  },
  {
   "cell_type": "code",
   "execution_count": 11,
   "id": "d67a6310",
   "metadata": {},
   "outputs": [
    {
     "data": {
      "text/html": [
       "<div>\n",
       "<style scoped>\n",
       "    .dataframe tbody tr th:only-of-type {\n",
       "        vertical-align: middle;\n",
       "    }\n",
       "\n",
       "    .dataframe tbody tr th {\n",
       "        vertical-align: top;\n",
       "    }\n",
       "\n",
       "    .dataframe thead th {\n",
       "        text-align: right;\n",
       "    }\n",
       "</style>\n",
       "<table border=\"1\" class=\"dataframe\">\n",
       "  <thead>\n",
       "    <tr style=\"text-align: right;\">\n",
       "      <th></th>\n",
       "      <th>unnamed</th>\n",
       "      <th>work_year</th>\n",
       "      <th>salary</th>\n",
       "      <th>salary_in_usd</th>\n",
       "      <th>remote_ratio</th>\n",
       "    </tr>\n",
       "  </thead>\n",
       "  <tbody>\n",
       "    <tr>\n",
       "      <th>count</th>\n",
       "      <td>607.000000</td>\n",
       "      <td>607.000000</td>\n",
       "      <td>6.070000e+02</td>\n",
       "      <td>607.000000</td>\n",
       "      <td>607.00000</td>\n",
       "    </tr>\n",
       "    <tr>\n",
       "      <th>mean</th>\n",
       "      <td>303.000000</td>\n",
       "      <td>2021.405272</td>\n",
       "      <td>3.240001e+05</td>\n",
       "      <td>112297.869852</td>\n",
       "      <td>70.92257</td>\n",
       "    </tr>\n",
       "    <tr>\n",
       "      <th>std</th>\n",
       "      <td>175.370085</td>\n",
       "      <td>0.692133</td>\n",
       "      <td>1.544357e+06</td>\n",
       "      <td>70957.259411</td>\n",
       "      <td>40.70913</td>\n",
       "    </tr>\n",
       "    <tr>\n",
       "      <th>min</th>\n",
       "      <td>0.000000</td>\n",
       "      <td>2020.000000</td>\n",
       "      <td>4.000000e+03</td>\n",
       "      <td>2859.000000</td>\n",
       "      <td>0.00000</td>\n",
       "    </tr>\n",
       "    <tr>\n",
       "      <th>25%</th>\n",
       "      <td>151.500000</td>\n",
       "      <td>2021.000000</td>\n",
       "      <td>7.000000e+04</td>\n",
       "      <td>62726.000000</td>\n",
       "      <td>50.00000</td>\n",
       "    </tr>\n",
       "    <tr>\n",
       "      <th>50%</th>\n",
       "      <td>303.000000</td>\n",
       "      <td>2022.000000</td>\n",
       "      <td>1.150000e+05</td>\n",
       "      <td>101570.000000</td>\n",
       "      <td>100.00000</td>\n",
       "    </tr>\n",
       "    <tr>\n",
       "      <th>75%</th>\n",
       "      <td>454.500000</td>\n",
       "      <td>2022.000000</td>\n",
       "      <td>1.650000e+05</td>\n",
       "      <td>150000.000000</td>\n",
       "      <td>100.00000</td>\n",
       "    </tr>\n",
       "    <tr>\n",
       "      <th>max</th>\n",
       "      <td>606.000000</td>\n",
       "      <td>2022.000000</td>\n",
       "      <td>3.040000e+07</td>\n",
       "      <td>600000.000000</td>\n",
       "      <td>100.00000</td>\n",
       "    </tr>\n",
       "  </tbody>\n",
       "</table>\n",
       "</div>"
      ],
      "text/plain": [
       "          unnamed    work_year        salary  salary_in_usd  remote_ratio\n",
       "count  607.000000   607.000000  6.070000e+02     607.000000     607.00000\n",
       "mean   303.000000  2021.405272  3.240001e+05  112297.869852      70.92257\n",
       "std    175.370085     0.692133  1.544357e+06   70957.259411      40.70913\n",
       "min      0.000000  2020.000000  4.000000e+03    2859.000000       0.00000\n",
       "25%    151.500000  2021.000000  7.000000e+04   62726.000000      50.00000\n",
       "50%    303.000000  2022.000000  1.150000e+05  101570.000000     100.00000\n",
       "75%    454.500000  2022.000000  1.650000e+05  150000.000000     100.00000\n",
       "max    606.000000  2022.000000  3.040000e+07  600000.000000     100.00000"
      ]
     },
     "execution_count": 11,
     "metadata": {},
     "output_type": "execute_result"
    }
   ],
   "source": [
    "df.describe()"
   ]
  },
  {
   "cell_type": "code",
   "execution_count": 12,
   "id": "db368c1a",
   "metadata": {},
   "outputs": [
    {
     "data": {
      "text/html": [
       "<div>\n",
       "<style scoped>\n",
       "    .dataframe tbody tr th:only-of-type {\n",
       "        vertical-align: middle;\n",
       "    }\n",
       "\n",
       "    .dataframe tbody tr th {\n",
       "        vertical-align: top;\n",
       "    }\n",
       "\n",
       "    .dataframe thead th {\n",
       "        text-align: right;\n",
       "    }\n",
       "</style>\n",
       "<table border=\"1\" class=\"dataframe\">\n",
       "  <thead>\n",
       "    <tr style=\"text-align: right;\">\n",
       "      <th></th>\n",
       "      <th>count</th>\n",
       "      <th>mean</th>\n",
       "      <th>std</th>\n",
       "      <th>min</th>\n",
       "      <th>25%</th>\n",
       "      <th>50%</th>\n",
       "      <th>75%</th>\n",
       "      <th>max</th>\n",
       "    </tr>\n",
       "  </thead>\n",
       "  <tbody>\n",
       "    <tr>\n",
       "      <th>unnamed</th>\n",
       "      <td>607.0</td>\n",
       "      <td>303.000000</td>\n",
       "      <td>1.753701e+02</td>\n",
       "      <td>0.0</td>\n",
       "      <td>151.5</td>\n",
       "      <td>303.0</td>\n",
       "      <td>454.5</td>\n",
       "      <td>606.0</td>\n",
       "    </tr>\n",
       "    <tr>\n",
       "      <th>work_year</th>\n",
       "      <td>607.0</td>\n",
       "      <td>2021.405272</td>\n",
       "      <td>6.921330e-01</td>\n",
       "      <td>2020.0</td>\n",
       "      <td>2021.0</td>\n",
       "      <td>2022.0</td>\n",
       "      <td>2022.0</td>\n",
       "      <td>2022.0</td>\n",
       "    </tr>\n",
       "    <tr>\n",
       "      <th>salary</th>\n",
       "      <td>607.0</td>\n",
       "      <td>324000.062603</td>\n",
       "      <td>1.544357e+06</td>\n",
       "      <td>4000.0</td>\n",
       "      <td>70000.0</td>\n",
       "      <td>115000.0</td>\n",
       "      <td>165000.0</td>\n",
       "      <td>30400000.0</td>\n",
       "    </tr>\n",
       "    <tr>\n",
       "      <th>salary_in_usd</th>\n",
       "      <td>607.0</td>\n",
       "      <td>112297.869852</td>\n",
       "      <td>7.095726e+04</td>\n",
       "      <td>2859.0</td>\n",
       "      <td>62726.0</td>\n",
       "      <td>101570.0</td>\n",
       "      <td>150000.0</td>\n",
       "      <td>600000.0</td>\n",
       "    </tr>\n",
       "    <tr>\n",
       "      <th>remote_ratio</th>\n",
       "      <td>607.0</td>\n",
       "      <td>70.922570</td>\n",
       "      <td>4.070913e+01</td>\n",
       "      <td>0.0</td>\n",
       "      <td>50.0</td>\n",
       "      <td>100.0</td>\n",
       "      <td>100.0</td>\n",
       "      <td>100.0</td>\n",
       "    </tr>\n",
       "  </tbody>\n",
       "</table>\n",
       "</div>"
      ],
      "text/plain": [
       "               count           mean           std     min      25%       50%  \\\n",
       "unnamed        607.0     303.000000  1.753701e+02     0.0    151.5     303.0   \n",
       "work_year      607.0    2021.405272  6.921330e-01  2020.0   2021.0    2022.0   \n",
       "salary         607.0  324000.062603  1.544357e+06  4000.0  70000.0  115000.0   \n",
       "salary_in_usd  607.0  112297.869852  7.095726e+04  2859.0  62726.0  101570.0   \n",
       "remote_ratio   607.0      70.922570  4.070913e+01     0.0     50.0     100.0   \n",
       "\n",
       "                    75%         max  \n",
       "unnamed           454.5       606.0  \n",
       "work_year        2022.0      2022.0  \n",
       "salary         165000.0  30400000.0  \n",
       "salary_in_usd  150000.0    600000.0  \n",
       "remote_ratio      100.0       100.0  "
      ]
     },
     "execution_count": 12,
     "metadata": {},
     "output_type": "execute_result"
    }
   ],
   "source": [
    "df.describe().T # Burada sayısal veriler ile ilgili genel bir istatistik çıkarıldı."
   ]
  },
  {
   "cell_type": "markdown",
   "id": "918067d5",
   "metadata": {},
   "source": [
    "## 3. Eksik değerlerin gözlemlenmesi"
   ]
  },
  {
   "cell_type": "code",
   "execution_count": 13,
   "id": "759233e4",
   "metadata": {},
   "outputs": [
    {
     "data": {
      "text/plain": [
       "False"
      ]
     },
     "execution_count": 13,
     "metadata": {},
     "output_type": "execute_result"
    }
   ],
   "source": [
    "df.isnull().values.any() "
   ]
  },
  {
   "cell_type": "markdown",
   "id": "a94b6d3d",
   "metadata": {},
   "source": [
    "## 4. Kategorik değişkenlerin incelenmesi"
   ]
  },
  {
   "cell_type": "code",
   "execution_count": 14,
   "id": "4bdea084",
   "metadata": {},
   "outputs": [],
   "source": [
    "katdf=df.select_dtypes(include=[\"category\"]) # categorical değişkenlerin neler olduğu gözlemlendi."
   ]
  },
  {
   "cell_type": "code",
   "execution_count": 15,
   "id": "127a79b7",
   "metadata": {},
   "outputs": [
    {
     "data": {
      "text/html": [
       "<div>\n",
       "<style scoped>\n",
       "    .dataframe tbody tr th:only-of-type {\n",
       "        vertical-align: middle;\n",
       "    }\n",
       "\n",
       "    .dataframe tbody tr th {\n",
       "        vertical-align: top;\n",
       "    }\n",
       "\n",
       "    .dataframe thead th {\n",
       "        text-align: right;\n",
       "    }\n",
       "</style>\n",
       "<table border=\"1\" class=\"dataframe\">\n",
       "  <thead>\n",
       "    <tr style=\"text-align: right;\">\n",
       "      <th></th>\n",
       "      <th>experience_level</th>\n",
       "      <th>employment_type</th>\n",
       "      <th>job_title</th>\n",
       "      <th>salary_currency</th>\n",
       "      <th>employee_residence</th>\n",
       "      <th>company_location</th>\n",
       "      <th>company_size</th>\n",
       "    </tr>\n",
       "  </thead>\n",
       "  <tbody>\n",
       "    <tr>\n",
       "      <th>0</th>\n",
       "      <td>MI</td>\n",
       "      <td>FT</td>\n",
       "      <td>Data Scientist</td>\n",
       "      <td>EUR</td>\n",
       "      <td>DE</td>\n",
       "      <td>DE</td>\n",
       "      <td>L</td>\n",
       "    </tr>\n",
       "    <tr>\n",
       "      <th>1</th>\n",
       "      <td>SE</td>\n",
       "      <td>FT</td>\n",
       "      <td>Machine Learning Scientist</td>\n",
       "      <td>USD</td>\n",
       "      <td>JP</td>\n",
       "      <td>JP</td>\n",
       "      <td>S</td>\n",
       "    </tr>\n",
       "    <tr>\n",
       "      <th>2</th>\n",
       "      <td>SE</td>\n",
       "      <td>FT</td>\n",
       "      <td>Big Data Engineer</td>\n",
       "      <td>GBP</td>\n",
       "      <td>GB</td>\n",
       "      <td>GB</td>\n",
       "      <td>M</td>\n",
       "    </tr>\n",
       "    <tr>\n",
       "      <th>3</th>\n",
       "      <td>MI</td>\n",
       "      <td>FT</td>\n",
       "      <td>Product Data Analyst</td>\n",
       "      <td>USD</td>\n",
       "      <td>HN</td>\n",
       "      <td>HN</td>\n",
       "      <td>S</td>\n",
       "    </tr>\n",
       "    <tr>\n",
       "      <th>4</th>\n",
       "      <td>SE</td>\n",
       "      <td>FT</td>\n",
       "      <td>Machine Learning Engineer</td>\n",
       "      <td>USD</td>\n",
       "      <td>US</td>\n",
       "      <td>US</td>\n",
       "      <td>L</td>\n",
       "    </tr>\n",
       "  </tbody>\n",
       "</table>\n",
       "</div>"
      ],
      "text/plain": [
       "  experience_level employment_type                   job_title  \\\n",
       "0               MI              FT              Data Scientist   \n",
       "1               SE              FT  Machine Learning Scientist   \n",
       "2               SE              FT           Big Data Engineer   \n",
       "3               MI              FT        Product Data Analyst   \n",
       "4               SE              FT   Machine Learning Engineer   \n",
       "\n",
       "  salary_currency employee_residence company_location company_size  \n",
       "0             EUR                 DE               DE            L  \n",
       "1             USD                 JP               JP            S  \n",
       "2             GBP                 GB               GB            M  \n",
       "3             USD                 HN               HN            S  \n",
       "4             USD                 US               US            L  "
      ]
     },
     "execution_count": 15,
     "metadata": {},
     "output_type": "execute_result"
    }
   ],
   "source": [
    "katdf.head()"
   ]
  },
  {
   "cell_type": "code",
   "execution_count": 16,
   "id": "91d50bad",
   "metadata": {},
   "outputs": [
    {
     "data": {
      "text/plain": [
       "['MI', 'SE', 'EN', 'EX']\n",
       "Categories (4, object): ['EN', 'EX', 'MI', 'SE']"
      ]
     },
     "execution_count": 16,
     "metadata": {},
     "output_type": "execute_result"
    }
   ],
   "source": [
    "katdf.experience_level.unique() # categorical değişkenlerin hangi kategorilerden oluştuğu gözlemlendi."
   ]
  },
  {
   "cell_type": "code",
   "execution_count": 17,
   "id": "93800610",
   "metadata": {},
   "outputs": [
    {
     "data": {
      "text/plain": [
       "SE    280\n",
       "MI    213\n",
       "EN     88\n",
       "EX     26\n",
       "Name: experience_level, dtype: int64"
      ]
     },
     "execution_count": 17,
     "metadata": {},
     "output_type": "execute_result"
    }
   ],
   "source": [
    "katdf.experience_level.value_counts() # kategorilerdeki dağılımlar gözlemlendi. katdf[\"experience_level\".value_counts.count()]\n",
    "# bu kod ketogori sayisini verir."
   ]
  },
  {
   "cell_type": "code",
   "execution_count": 18,
   "id": "67e00157",
   "metadata": {},
   "outputs": [
    {
     "data": {
      "text/plain": [
       "experience_level  job_title                         \n",
       "EN                3D Computer Vision Researcher         0\n",
       "                  AI Scientist                          4\n",
       "                  Analytics Engineer                    0\n",
       "                  Applied Data Scientist                1\n",
       "                  Applied Machine Learning Scientist    1\n",
       "                                                       ..\n",
       "SE                Principal Data Engineer               2\n",
       "                  Principal Data Scientist              5\n",
       "                  Product Data Analyst                  0\n",
       "                  Research Scientist                    5\n",
       "                  Staff Data Scientist                  1\n",
       "Length: 200, dtype: int64"
      ]
     },
     "execution_count": 18,
     "metadata": {},
     "output_type": "execute_result"
    }
   ],
   "source": [
    "katdf.groupby(['experience_level', 'job_title']).size() #iki değişken için arama yapıldı."
   ]
  },
  {
   "cell_type": "code",
   "execution_count": 21,
   "id": "e0794613",
   "metadata": {},
   "outputs": [
    {
     "data": {
      "text/plain": [
       "SE    61\n",
       "MI    60\n",
       "EN    22\n",
       "EX     0\n",
       "Name: experience_level, dtype: int64"
      ]
     },
     "execution_count": 21,
     "metadata": {},
     "output_type": "execute_result"
    }
   ],
   "source": [
    "ds_df = katdf[katdf['job_title'] == 'Data Scientist'] # data scientist ler için experience level sayımı yapıldı\n",
    "ds_df.experience_level.value_counts()"
   ]
  },
  {
   "cell_type": "code",
   "execution_count": 42,
   "id": "f46dd9d7",
   "metadata": {},
   "outputs": [
    {
     "data": {
      "text/plain": [
       "EN    0\n",
       "EX    0\n",
       "MI    0\n",
       "SE    0\n",
       "Name: experience_level, dtype: int64"
      ]
     },
     "execution_count": 42,
     "metadata": {},
     "output_type": "execute_result"
    }
   ],
   "source": [
    "ds_df = katdf[(katdf['job_title'] == 'Data Engineer')&(katdf['company_location']==\"CA\")] \n",
    "ds_df.experience_level.value_counts()"
   ]
  },
  {
   "cell_type": "code",
   "execution_count": 19,
   "id": "de550839",
   "metadata": {},
   "outputs": [
    {
     "data": {
      "text/plain": [
       "['FT', 'CT', 'PT', 'FL']\n",
       "Categories (4, object): ['CT', 'FL', 'FT', 'PT']"
      ]
     },
     "execution_count": 19,
     "metadata": {},
     "output_type": "execute_result"
    }
   ],
   "source": [
    "katdf.employment_type.unique()"
   ]
  },
  {
   "cell_type": "code",
   "execution_count": 20,
   "id": "cf2a5ac4",
   "metadata": {},
   "outputs": [
    {
     "data": {
      "text/plain": [
       "FT    588\n",
       "PT     10\n",
       "CT      5\n",
       "FL      4\n",
       "Name: employment_type, dtype: int64"
      ]
     },
     "execution_count": 20,
     "metadata": {},
     "output_type": "execute_result"
    }
   ],
   "source": [
    "katdf.employment_type.value_counts() "
   ]
  },
  {
   "cell_type": "code",
   "execution_count": 24,
   "id": "edffb5fb",
   "metadata": {},
   "outputs": [
    {
     "data": {
      "text/plain": [
       "FT    129\n",
       "PT      2\n",
       "FL      1\n",
       "CT      0\n",
       "Name: employment_type, dtype: int64"
      ]
     },
     "execution_count": 24,
     "metadata": {},
     "output_type": "execute_result"
    }
   ],
   "source": [
    "ds_df = katdf[katdf['job_title'] == 'Data Engineer'] \n",
    "ds_df.employment_type.value_counts()"
   ]
  },
  {
   "cell_type": "code",
   "execution_count": 29,
   "id": "6aef9367",
   "metadata": {},
   "outputs": [
    {
     "data": {
      "text/plain": [
       "['Data Scientist', 'Machine Learning Scientist', 'Big Data Engineer', 'Product Data Analyst', 'Machine Learning Engineer', ..., 'ETL Developer', 'Head of Machine Learning', 'NLP Engineer', 'Lead Machine Learning Engineer', 'Data Analytics Lead']\n",
       "Length: 50\n",
       "Categories (50, object): ['3D Computer Vision Researcher', 'AI Scientist', 'Analytics Engineer', 'Applied Data Scientist', ..., 'Principal Data Scientist', 'Product Data Analyst', 'Research Scientist', 'Staff Data Scientist']"
      ]
     },
     "execution_count": 29,
     "metadata": {},
     "output_type": "execute_result"
    }
   ],
   "source": [
    "katdf.job_title.unique()"
   ]
  },
  {
   "cell_type": "code",
   "execution_count": 30,
   "id": "850f7170",
   "metadata": {},
   "outputs": [
    {
     "data": {
      "text/plain": [
       "['3D Computer Vision Researcher',\n",
       " 'AI Scientist',\n",
       " 'Analytics Engineer',\n",
       " 'Applied Data Scientist',\n",
       " 'Applied Machine Learning Scientist',\n",
       " 'BI Data Analyst',\n",
       " 'Big Data Architect',\n",
       " 'Big Data Engineer',\n",
       " 'Business Data Analyst',\n",
       " 'Cloud Data Engineer',\n",
       " 'Computer Vision Engineer',\n",
       " 'Computer Vision Software Engineer',\n",
       " 'Data Analyst',\n",
       " 'Data Analytics Engineer',\n",
       " 'Data Analytics Lead',\n",
       " 'Data Analytics Manager',\n",
       " 'Data Architect',\n",
       " 'Data Engineer',\n",
       " 'Data Engineering Manager',\n",
       " 'Data Science Consultant',\n",
       " 'Data Science Engineer',\n",
       " 'Data Science Manager',\n",
       " 'Data Scientist',\n",
       " 'Data Specialist',\n",
       " 'Director of Data Engineering',\n",
       " 'Director of Data Science',\n",
       " 'ETL Developer',\n",
       " 'Finance Data Analyst',\n",
       " 'Financial Data Analyst',\n",
       " 'Head of Data',\n",
       " 'Head of Data Science',\n",
       " 'Head of Machine Learning',\n",
       " 'Lead Data Analyst',\n",
       " 'Lead Data Engineer',\n",
       " 'Lead Data Scientist',\n",
       " 'Lead Machine Learning Engineer',\n",
       " 'ML Engineer',\n",
       " 'Machine Learning Developer',\n",
       " 'Machine Learning Engineer',\n",
       " 'Machine Learning Infrastructure Engineer',\n",
       " 'Machine Learning Manager',\n",
       " 'Machine Learning Scientist',\n",
       " 'Marketing Data Analyst',\n",
       " 'NLP Engineer',\n",
       " 'Principal Data Analyst',\n",
       " 'Principal Data Engineer',\n",
       " 'Principal Data Scientist',\n",
       " 'Product Data Analyst',\n",
       " 'Research Scientist',\n",
       " 'Staff Data Scientist']"
      ]
     },
     "execution_count": 30,
     "metadata": {},
     "output_type": "execute_result"
    }
   ],
   "source": [
    "list(df[\"job_title\"].cat.categories) # 50 kategorinin ne olduğu gözlemlendi. cat pandasta categorilere ulaşmak için"
   ]
  },
  {
   "cell_type": "code",
   "execution_count": 46,
   "id": "915eb0f9",
   "metadata": {},
   "outputs": [
    {
     "data": {
      "text/plain": [
       "Data Scientist                              143\n",
       "Data Engineer                               132\n",
       "Data Analyst                                 97\n",
       "Machine Learning Engineer                    41\n",
       "Research Scientist                           16\n",
       "Data Science Manager                         12\n",
       "Data Architect                               11\n",
       "Big Data Engineer                             8\n",
       "Machine Learning Scientist                    8\n",
       "Director of Data Science                      7\n",
       "AI Scientist                                  7\n",
       "Principal Data Scientist                      7\n",
       "Data Science Consultant                       7\n",
       "Data Analytics Manager                        7\n",
       "Computer Vision Engineer                      6\n",
       "BI Data Analyst                               6\n",
       "ML Engineer                                   6\n",
       "Lead Data Engineer                            6\n",
       "Data Engineering Manager                      5\n",
       "Business Data Analyst                         5\n",
       "Applied Data Scientist                        5\n",
       "Head of Data                                  5\n",
       "Head of Data Science                          4\n",
       "Data Analytics Engineer                       4\n",
       "Applied Machine Learning Scientist            4\n",
       "Analytics Engineer                            4\n",
       "Machine Learning Developer                    3\n",
       "Machine Learning Infrastructure Engineer      3\n",
       "Lead Data Scientist                           3\n",
       "Lead Data Analyst                             3\n",
       "Data Science Engineer                         3\n",
       "Principal Data Engineer                       3\n",
       "Computer Vision Software Engineer             3\n",
       "Principal Data Analyst                        2\n",
       "Financial Data Analyst                        2\n",
       "ETL Developer                                 2\n",
       "Director of Data Engineering                  2\n",
       "Product Data Analyst                          2\n",
       "Cloud Data Engineer                           2\n",
       "NLP Engineer                                  1\n",
       "Marketing Data Analyst                        1\n",
       "3D Computer Vision Researcher                 1\n",
       "Machine Learning Manager                      1\n",
       "Lead Machine Learning Engineer                1\n",
       "Head of Machine Learning                      1\n",
       "Finance Data Analyst                          1\n",
       "Data Specialist                               1\n",
       "Data Analytics Lead                           1\n",
       "Big Data Architect                            1\n",
       "Staff Data Scientist                          1\n",
       "Name: job_title, dtype: int64"
      ]
     },
     "execution_count": 46,
     "metadata": {},
     "output_type": "execute_result"
    }
   ],
   "source": [
    "katdf.job_title.value_counts()"
   ]
  },
  {
   "cell_type": "code",
   "execution_count": 33,
   "id": "d0b03b10",
   "metadata": {},
   "outputs": [
    {
     "data": {
      "text/plain": [
       "['EUR', 'USD', 'GBP', 'HUF', 'INR', ..., 'CLP', 'BRL', 'TRY', 'AUD', 'CHF']\n",
       "Length: 17\n",
       "Categories (17, object): ['AUD', 'BRL', 'CAD', 'CHF', ..., 'PLN', 'SGD', 'TRY', 'USD']"
      ]
     },
     "execution_count": 33,
     "metadata": {},
     "output_type": "execute_result"
    }
   ],
   "source": [
    "katdf.salary_currency.unique()"
   ]
  },
  {
   "cell_type": "code",
   "execution_count": 34,
   "id": "9d69669b",
   "metadata": {},
   "outputs": [
    {
     "data": {
      "text/plain": [
       "['AUD',\n",
       " 'BRL',\n",
       " 'CAD',\n",
       " 'CHF',\n",
       " 'CLP',\n",
       " 'CNY',\n",
       " 'DKK',\n",
       " 'EUR',\n",
       " 'GBP',\n",
       " 'HUF',\n",
       " 'INR',\n",
       " 'JPY',\n",
       " 'MXN',\n",
       " 'PLN',\n",
       " 'SGD',\n",
       " 'TRY',\n",
       " 'USD']"
      ]
     },
     "execution_count": 34,
     "metadata": {},
     "output_type": "execute_result"
    }
   ],
   "source": [
    "list(df[\"salary_currency\"].cat.categories)"
   ]
  },
  {
   "cell_type": "code",
   "execution_count": 48,
   "id": "eb6b61a1",
   "metadata": {},
   "outputs": [
    {
     "data": {
      "text/plain": [
       "USD    398\n",
       "EUR     95\n",
       "GBP     44\n",
       "INR     27\n",
       "CAD     18\n",
       "JPY      3\n",
       "PLN      3\n",
       "TRY      3\n",
       "CNY      2\n",
       "DKK      2\n",
       "BRL      2\n",
       "HUF      2\n",
       "MXN      2\n",
       "SGD      2\n",
       "AUD      2\n",
       "CHF      1\n",
       "CLP      1\n",
       "Name: salary_currency, dtype: int64"
      ]
     },
     "execution_count": 48,
     "metadata": {},
     "output_type": "execute_result"
    }
   ],
   "source": [
    "katdf.salary_currency.value_counts() "
   ]
  },
  {
   "cell_type": "code",
   "execution_count": 35,
   "id": "9dd8ae8f",
   "metadata": {},
   "outputs": [
    {
     "data": {
      "text/plain": [
       "['DE', 'JP', 'GB', 'HN', 'US', ..., 'EE', 'AU', 'BO', 'IE', 'CH']\n",
       "Length: 57\n",
       "Categories (57, object): ['AE', 'AR', 'AT', 'AU', ..., 'TR', 'UA', 'US', 'VN']"
      ]
     },
     "execution_count": 35,
     "metadata": {},
     "output_type": "execute_result"
    }
   ],
   "source": [
    "katdf.employee_residence.unique()"
   ]
  },
  {
   "cell_type": "code",
   "execution_count": 50,
   "id": "4a3ec81e",
   "metadata": {},
   "outputs": [
    {
     "data": {
      "text/plain": [
       "US    332\n",
       "GB     44\n",
       "IN     30\n",
       "CA     29\n",
       "DE     25\n",
       "FR     18\n",
       "ES     15\n",
       "GR     13\n",
       "JP      7\n",
       "PK      6\n",
       "BR      6\n",
       "PT      6\n",
       "NL      5\n",
       "IT      4\n",
       "PL      4\n",
       "RU      4\n",
       "TR      3\n",
       "AE      3\n",
       "VN      3\n",
       "AT      3\n",
       "AU      3\n",
       "BE      2\n",
       "SI      2\n",
       "MX      2\n",
       "RO      2\n",
       "SG      2\n",
       "NG      2\n",
       "HU      2\n",
       "DK      2\n",
       "TN      1\n",
       "CL      1\n",
       "RS      1\n",
       "UA      1\n",
       "BG      1\n",
       "PR      1\n",
       "BO      1\n",
       "CH      1\n",
       "PH      1\n",
       "NZ      1\n",
       "EE      1\n",
       "MY      1\n",
       "DZ      1\n",
       "MT      1\n",
       "MD      1\n",
       "LU      1\n",
       "KE      1\n",
       "CN      1\n",
       "JE      1\n",
       "CO      1\n",
       "IR      1\n",
       "AR      1\n",
       "CZ      1\n",
       "IE      1\n",
       "HR      1\n",
       "HN      1\n",
       "HK      1\n",
       "IQ      1\n",
       "Name: employee_residence, dtype: int64"
      ]
     },
     "execution_count": 50,
     "metadata": {},
     "output_type": "execute_result"
    }
   ],
   "source": [
    "katdf.employee_residence.value_counts()"
   ]
  },
  {
   "cell_type": "code",
   "execution_count": 37,
   "id": "c59214a6",
   "metadata": {},
   "outputs": [
    {
     "data": {
      "text/plain": [
       "['DE', 'JP', 'GB', 'HN', 'US', ..., 'DZ', 'EE', 'MY', 'AU', 'IE']\n",
       "Length: 50\n",
       "Categories (50, object): ['AE', 'AS', 'AT', 'AU', ..., 'TR', 'UA', 'US', 'VN']"
      ]
     },
     "execution_count": 37,
     "metadata": {},
     "output_type": "execute_result"
    }
   ],
   "source": [
    "katdf.company_location.unique()"
   ]
  },
  {
   "cell_type": "code",
   "execution_count": 52,
   "id": "3c648e20",
   "metadata": {},
   "outputs": [
    {
     "data": {
      "text/plain": [
       "US    355\n",
       "GB     47\n",
       "CA     30\n",
       "DE     28\n",
       "IN     24\n",
       "FR     15\n",
       "ES     14\n",
       "GR     11\n",
       "JP      6\n",
       "PL      4\n",
       "PT      4\n",
       "NL      4\n",
       "AT      4\n",
       "MX      3\n",
       "LU      3\n",
       "TR      3\n",
       "PK      3\n",
       "AE      3\n",
       "AU      3\n",
       "BR      3\n",
       "DK      3\n",
       "CN      2\n",
       "CZ      2\n",
       "BE      2\n",
       "SI      2\n",
       "RU      2\n",
       "NG      2\n",
       "IT      2\n",
       "CH      2\n",
       "NZ      1\n",
       "CL      1\n",
       "EE      1\n",
       "SG      1\n",
       "UA      1\n",
       "RO      1\n",
       "CO      1\n",
       "MY      1\n",
       "DZ      1\n",
       "MT      1\n",
       "MD      1\n",
       "KE      1\n",
       "IR      1\n",
       "IQ      1\n",
       "AS      1\n",
       "IL      1\n",
       "IE      1\n",
       "HU      1\n",
       "HR      1\n",
       "HN      1\n",
       "VN      1\n",
       "Name: company_location, dtype: int64"
      ]
     },
     "execution_count": 52,
     "metadata": {},
     "output_type": "execute_result"
    }
   ],
   "source": [
    "katdf.company_location.value_counts()"
   ]
  },
  {
   "cell_type": "code",
   "execution_count": 41,
   "id": "16816930",
   "metadata": {},
   "outputs": [
    {
     "data": {
      "text/plain": [
       "['L', 'S', 'M']\n",
       "Categories (3, object): ['L', 'M', 'S']"
      ]
     },
     "execution_count": 41,
     "metadata": {},
     "output_type": "execute_result"
    }
   ],
   "source": [
    "katdf.company_size.unique()"
   ]
  },
  {
   "cell_type": "code",
   "execution_count": 54,
   "id": "9a653973",
   "metadata": {},
   "outputs": [
    {
     "data": {
      "text/plain": [
       "M    326\n",
       "L    198\n",
       "S     83\n",
       "Name: company_size, dtype: int64"
      ]
     },
     "execution_count": 54,
     "metadata": {},
     "output_type": "execute_result"
    }
   ],
   "source": [
    "katdf.company_size.value_counts()"
   ]
  },
  {
   "cell_type": "markdown",
   "id": "94ee3ba0",
   "metadata": {},
   "source": [
    "## 4.1. Kategorik değişkenlerin görselleştirilmesi"
   ]
  },
  {
   "cell_type": "markdown",
   "id": "7f1b0adf",
   "metadata": {},
   "source": [
    "##### Veri görselleştirilmesinde birçok ara kullaılmaktadır bunlardan bazıları plot, bar, his ve scatter dır. bu türleirn açıklanması ve avantajları aşağıda açıklanmaktadır.\n",
    "- plot() : çizgi grafiğidir. zamana bağlı değişimleri göstermek,grupların ortalama değerlerinin karşılaştırılması ve trend analizlerinde kullanılabilir. avantajı zamanla değişimii net göstermesidir.genellikle x ekseni zaman veya sıralı bir kategori iken y ekseni sayısal değerdir.\n",
    "- bar() : sütun grafiğidir. kategorik değişkenlerin karşılaştırılmasında kullanılır. genelde x ekseni kategorik y ekseni sayısal olur.avantaj olarak sayısal karşılaştırmalarda güçlüdür.\n",
    "- hist() : bir değişkenin frekans dağılımını göstermek,hangi aralıkta kaç kişi oldğunu görmek ,verilerin dağılımı normal veya çarpık mı diye kontrol etmek için kullanılır. x ekseni veri değerleri iken (aralık), y ekseni frekansı yani kaç kişinin o aralıkta olduğunu belirtir. avantajları dağılımı gözlemlerken aykırı değerlerin tepitinde yardımcı olur.\n",
    "- scatter() : iki sayısal değer arasındaki ilişkiyi görselleştirmek, korelasyon analizi,regresyon modelleri öncesi görsel analiz yapmak için kullanılır.x ve y ekseni sayısaldır. her veri noktası grafikte bir nokta olarak gösterilir.avantaj olarak sayısal değişkenler arasındaki ilişkiyi açıkca göstrirken gruplar ve kümeler fark edilebilir.\n"
   ]
  },
  {
   "cell_type": "code",
   "execution_count": 56,
   "id": "cab33a05",
   "metadata": {},
   "outputs": [
    {
     "data": {
      "text/plain": [
       "<AxesSubplot:>"
      ]
     },
     "execution_count": 56,
     "metadata": {},
     "output_type": "execute_result"
    },
    {
     "data": {
      "image/png": "[encoded data removed]",
      "text/plain": [
       "<Figure size 432x288 with 1 Axes>"
      ]
     },
     "metadata": {
      "needs_background": "light"
     },
     "output_type": "display_data"
    }
   ],
   "source": [
    "df[\"experience_level\"].value_counts().plot.barh()"
   ]
  },
  {
   "cell_type": "code",
   "execution_count": 58,
   "id": "093573c3",
   "metadata": {},
   "outputs": [
    {
     "data": {
      "text/plain": [
       "<AxesSubplot:>"
      ]
     },
     "execution_count": 58,
     "metadata": {},
     "output_type": "execute_result"
    },
    {
     "data": {
      "image/png": "[encoded data removed]",
      "text/plain": [
       "<Figure size 432x288 with 1 Axes>"
      ]
     },
     "metadata": {
      "needs_background": "light"
     },
     "output_type": "display_data"
    }
   ],
   "source": [
    "df[\"employment_type\"].value_counts().plot.barh()"
   ]
  },
  {
   "cell_type": "code",
   "execution_count": 60,
   "id": "2296794d",
   "metadata": {},
   "outputs": [
    {
     "data": {
      "text/plain": [
       "<AxesSubplot:>"
      ]
     },
     "execution_count": 60,
     "metadata": {},
     "output_type": "execute_result"
    },
    {
     "data": {
      "image/png": "[encoded data removed]",
      "text/plain": [
       "<Figure size 432x288 with 1 Axes>"
      ]
     },
     "metadata": {
      "needs_background": "light"
     },
     "output_type": "display_data"
    }
   ],
   "source": [
    "df[\"company_size\"].value_counts().plot.barh()"
   ]
  },
  {
   "cell_type": "markdown",
   "id": "ba915ad9",
   "metadata": {},
   "source": [
    "## 5.Sürekli değişkenlerin incelenmesi"
   ]
  },
  {
   "cell_type": "code",
   "execution_count": 61,
   "id": "ae10a731",
   "metadata": {},
   "outputs": [],
   "source": [
    "numdf=df.select_dtypes(include=[\"int64\"])"
   ]
  },
  {
   "cell_type": "code",
   "execution_count": 62,
   "id": "3ba40a79",
   "metadata": {},
   "outputs": [
    {
     "data": {
      "text/html": [
       "<div>\n",
       "<style scoped>\n",
       "    .dataframe tbody tr th:only-of-type {\n",
       "        vertical-align: middle;\n",
       "    }\n",
       "\n",
       "    .dataframe tbody tr th {\n",
       "        vertical-align: top;\n",
       "    }\n",
       "\n",
       "    .dataframe thead th {\n",
       "        text-align: right;\n",
       "    }\n",
       "</style>\n",
       "<table border=\"1\" class=\"dataframe\">\n",
       "  <thead>\n",
       "    <tr style=\"text-align: right;\">\n",
       "      <th></th>\n",
       "      <th>unnamed</th>\n",
       "      <th>work_year</th>\n",
       "      <th>salary</th>\n",
       "      <th>salary_in_usd</th>\n",
       "      <th>remote_ratio</th>\n",
       "    </tr>\n",
       "  </thead>\n",
       "  <tbody>\n",
       "    <tr>\n",
       "      <th>0</th>\n",
       "      <td>0</td>\n",
       "      <td>2020</td>\n",
       "      <td>70000</td>\n",
       "      <td>79833</td>\n",
       "      <td>0</td>\n",
       "    </tr>\n",
       "    <tr>\n",
       "      <th>1</th>\n",
       "      <td>1</td>\n",
       "      <td>2020</td>\n",
       "      <td>260000</td>\n",
       "      <td>260000</td>\n",
       "      <td>0</td>\n",
       "    </tr>\n",
       "    <tr>\n",
       "      <th>2</th>\n",
       "      <td>2</td>\n",
       "      <td>2020</td>\n",
       "      <td>85000</td>\n",
       "      <td>109024</td>\n",
       "      <td>50</td>\n",
       "    </tr>\n",
       "    <tr>\n",
       "      <th>3</th>\n",
       "      <td>3</td>\n",
       "      <td>2020</td>\n",
       "      <td>20000</td>\n",
       "      <td>20000</td>\n",
       "      <td>0</td>\n",
       "    </tr>\n",
       "    <tr>\n",
       "      <th>4</th>\n",
       "      <td>4</td>\n",
       "      <td>2020</td>\n",
       "      <td>150000</td>\n",
       "      <td>150000</td>\n",
       "      <td>50</td>\n",
       "    </tr>\n",
       "  </tbody>\n",
       "</table>\n",
       "</div>"
      ],
      "text/plain": [
       "   unnamed  work_year  salary  salary_in_usd  remote_ratio\n",
       "0        0       2020   70000          79833             0\n",
       "1        1       2020  260000         260000             0\n",
       "2        2       2020   85000         109024            50\n",
       "3        3       2020   20000          20000             0\n",
       "4        4       2020  150000         150000            50"
      ]
     },
     "execution_count": 62,
     "metadata": {},
     "output_type": "execute_result"
    }
   ],
   "source": [
    "numdf.head()"
   ]
  },
  {
   "cell_type": "code",
   "execution_count": 64,
   "id": "cfcddf05",
   "metadata": {},
   "outputs": [
    {
     "data": {
      "text/html": [
       "<div>\n",
       "<style scoped>\n",
       "    .dataframe tbody tr th:only-of-type {\n",
       "        vertical-align: middle;\n",
       "    }\n",
       "\n",
       "    .dataframe tbody tr th {\n",
       "        vertical-align: top;\n",
       "    }\n",
       "\n",
       "    .dataframe thead th {\n",
       "        text-align: right;\n",
       "    }\n",
       "</style>\n",
       "<table border=\"1\" class=\"dataframe\">\n",
       "  <thead>\n",
       "    <tr style=\"text-align: right;\">\n",
       "      <th></th>\n",
       "      <th>unnamed</th>\n",
       "      <th>work_year</th>\n",
       "      <th>salary</th>\n",
       "      <th>salary_in_usd</th>\n",
       "      <th>remote_ratio</th>\n",
       "    </tr>\n",
       "  </thead>\n",
       "  <tbody>\n",
       "    <tr>\n",
       "      <th>count</th>\n",
       "      <td>607.000000</td>\n",
       "      <td>607.000000</td>\n",
       "      <td>6.070000e+02</td>\n",
       "      <td>607.000000</td>\n",
       "      <td>607.00000</td>\n",
       "    </tr>\n",
       "    <tr>\n",
       "      <th>mean</th>\n",
       "      <td>303.000000</td>\n",
       "      <td>2021.405272</td>\n",
       "      <td>3.240001e+05</td>\n",
       "      <td>112297.869852</td>\n",
       "      <td>70.92257</td>\n",
       "    </tr>\n",
       "    <tr>\n",
       "      <th>std</th>\n",
       "      <td>175.370085</td>\n",
       "      <td>0.692133</td>\n",
       "      <td>1.544357e+06</td>\n",
       "      <td>70957.259411</td>\n",
       "      <td>40.70913</td>\n",
       "    </tr>\n",
       "    <tr>\n",
       "      <th>min</th>\n",
       "      <td>0.000000</td>\n",
       "      <td>2020.000000</td>\n",
       "      <td>4.000000e+03</td>\n",
       "      <td>2859.000000</td>\n",
       "      <td>0.00000</td>\n",
       "    </tr>\n",
       "    <tr>\n",
       "      <th>25%</th>\n",
       "      <td>151.500000</td>\n",
       "      <td>2021.000000</td>\n",
       "      <td>7.000000e+04</td>\n",
       "      <td>62726.000000</td>\n",
       "      <td>50.00000</td>\n",
       "    </tr>\n",
       "    <tr>\n",
       "      <th>50%</th>\n",
       "      <td>303.000000</td>\n",
       "      <td>2022.000000</td>\n",
       "      <td>1.150000e+05</td>\n",
       "      <td>101570.000000</td>\n",
       "      <td>100.00000</td>\n",
       "    </tr>\n",
       "    <tr>\n",
       "      <th>75%</th>\n",
       "      <td>454.500000</td>\n",
       "      <td>2022.000000</td>\n",
       "      <td>1.650000e+05</td>\n",
       "      <td>150000.000000</td>\n",
       "      <td>100.00000</td>\n",
       "    </tr>\n",
       "    <tr>\n",
       "      <th>max</th>\n",
       "      <td>606.000000</td>\n",
       "      <td>2022.000000</td>\n",
       "      <td>3.040000e+07</td>\n",
       "      <td>600000.000000</td>\n",
       "      <td>100.00000</td>\n",
       "    </tr>\n",
       "  </tbody>\n",
       "</table>\n",
       "</div>"
      ],
      "text/plain": [
       "          unnamed    work_year        salary  salary_in_usd  remote_ratio\n",
       "count  607.000000   607.000000  6.070000e+02     607.000000     607.00000\n",
       "mean   303.000000  2021.405272  3.240001e+05  112297.869852      70.92257\n",
       "std    175.370085     0.692133  1.544357e+06   70957.259411      40.70913\n",
       "min      0.000000  2020.000000  4.000000e+03    2859.000000       0.00000\n",
       "25%    151.500000  2021.000000  7.000000e+04   62726.000000      50.00000\n",
       "50%    303.000000  2022.000000  1.150000e+05  101570.000000     100.00000\n",
       "75%    454.500000  2022.000000  1.650000e+05  150000.000000     100.00000\n",
       "max    606.000000  2022.000000  3.040000e+07  600000.000000     100.00000"
      ]
     },
     "execution_count": 64,
     "metadata": {},
     "output_type": "execute_result"
    }
   ],
   "source": [
    "numdf.describe()"
   ]
  },
  {
   "cell_type": "code",
   "execution_count": 65,
   "id": "9c17fa2d",
   "metadata": {},
   "outputs": [
    {
     "data": {
      "text/html": [
       "<div>\n",
       "<style scoped>\n",
       "    .dataframe tbody tr th:only-of-type {\n",
       "        vertical-align: middle;\n",
       "    }\n",
       "\n",
       "    .dataframe tbody tr th {\n",
       "        vertical-align: top;\n",
       "    }\n",
       "\n",
       "    .dataframe thead th {\n",
       "        text-align: right;\n",
       "    }\n",
       "</style>\n",
       "<table border=\"1\" class=\"dataframe\">\n",
       "  <thead>\n",
       "    <tr style=\"text-align: right;\">\n",
       "      <th></th>\n",
       "      <th>count</th>\n",
       "      <th>mean</th>\n",
       "      <th>std</th>\n",
       "      <th>min</th>\n",
       "      <th>25%</th>\n",
       "      <th>50%</th>\n",
       "      <th>75%</th>\n",
       "      <th>max</th>\n",
       "    </tr>\n",
       "  </thead>\n",
       "  <tbody>\n",
       "    <tr>\n",
       "      <th>unnamed</th>\n",
       "      <td>607.0</td>\n",
       "      <td>303.000000</td>\n",
       "      <td>1.753701e+02</td>\n",
       "      <td>0.0</td>\n",
       "      <td>151.5</td>\n",
       "      <td>303.0</td>\n",
       "      <td>454.5</td>\n",
       "      <td>606.0</td>\n",
       "    </tr>\n",
       "    <tr>\n",
       "      <th>work_year</th>\n",
       "      <td>607.0</td>\n",
       "      <td>2021.405272</td>\n",
       "      <td>6.921330e-01</td>\n",
       "      <td>2020.0</td>\n",
       "      <td>2021.0</td>\n",
       "      <td>2022.0</td>\n",
       "      <td>2022.0</td>\n",
       "      <td>2022.0</td>\n",
       "    </tr>\n",
       "    <tr>\n",
       "      <th>salary</th>\n",
       "      <td>607.0</td>\n",
       "      <td>324000.062603</td>\n",
       "      <td>1.544357e+06</td>\n",
       "      <td>4000.0</td>\n",
       "      <td>70000.0</td>\n",
       "      <td>115000.0</td>\n",
       "      <td>165000.0</td>\n",
       "      <td>30400000.0</td>\n",
       "    </tr>\n",
       "    <tr>\n",
       "      <th>salary_in_usd</th>\n",
       "      <td>607.0</td>\n",
       "      <td>112297.869852</td>\n",
       "      <td>7.095726e+04</td>\n",
       "      <td>2859.0</td>\n",
       "      <td>62726.0</td>\n",
       "      <td>101570.0</td>\n",
       "      <td>150000.0</td>\n",
       "      <td>600000.0</td>\n",
       "    </tr>\n",
       "    <tr>\n",
       "      <th>remote_ratio</th>\n",
       "      <td>607.0</td>\n",
       "      <td>70.922570</td>\n",
       "      <td>4.070913e+01</td>\n",
       "      <td>0.0</td>\n",
       "      <td>50.0</td>\n",
       "      <td>100.0</td>\n",
       "      <td>100.0</td>\n",
       "      <td>100.0</td>\n",
       "    </tr>\n",
       "  </tbody>\n",
       "</table>\n",
       "</div>"
      ],
      "text/plain": [
       "               count           mean           std     min      25%       50%  \\\n",
       "unnamed        607.0     303.000000  1.753701e+02     0.0    151.5     303.0   \n",
       "work_year      607.0    2021.405272  6.921330e-01  2020.0   2021.0    2022.0   \n",
       "salary         607.0  324000.062603  1.544357e+06  4000.0  70000.0  115000.0   \n",
       "salary_in_usd  607.0  112297.869852  7.095726e+04  2859.0  62726.0  101570.0   \n",
       "remote_ratio   607.0      70.922570  4.070913e+01     0.0     50.0     100.0   \n",
       "\n",
       "                    75%         max  \n",
       "unnamed           454.5       606.0  \n",
       "work_year        2022.0      2022.0  \n",
       "salary         165000.0  30400000.0  \n",
       "salary_in_usd  150000.0    600000.0  \n",
       "remote_ratio      100.0       100.0  "
      ]
     },
     "execution_count": 65,
     "metadata": {},
     "output_type": "execute_result"
    }
   ],
   "source": [
    "numdf.describe().T"
   ]
  },
  {
   "cell_type": "markdown",
   "id": "d4bd31ab",
   "metadata": {},
   "source": [
    "## 6. Veri seti üzerinde yapılan incelemeler"
   ]
  },
  {
   "cell_type": "markdown",
   "id": "d0761d58",
   "metadata": {},
   "source": [
    "##### Deneyimin maaşlar üzerindeki etkisi"
   ]
  },
  {
   "cell_type": "code",
   "execution_count": 70,
   "id": "b2694c65",
   "metadata": {},
   "outputs": [
    {
     "data": {
      "text/html": [
       "<div>\n",
       "<style scoped>\n",
       "    .dataframe tbody tr th:only-of-type {\n",
       "        vertical-align: middle;\n",
       "    }\n",
       "\n",
       "    .dataframe tbody tr th {\n",
       "        vertical-align: top;\n",
       "    }\n",
       "\n",
       "    .dataframe thead th {\n",
       "        text-align: right;\n",
       "    }\n",
       "</style>\n",
       "<table border=\"1\" class=\"dataframe\">\n",
       "  <thead>\n",
       "    <tr style=\"text-align: right;\">\n",
       "      <th></th>\n",
       "      <th>salary</th>\n",
       "    </tr>\n",
       "    <tr>\n",
       "      <th>experience_level</th>\n",
       "      <th></th>\n",
       "    </tr>\n",
       "  </thead>\n",
       "  <tbody>\n",
       "    <tr>\n",
       "      <th>EN</th>\n",
       "      <td>311231.818182</td>\n",
       "    </tr>\n",
       "    <tr>\n",
       "      <th>MI</th>\n",
       "      <td>939987.166667</td>\n",
       "    </tr>\n",
       "    <tr>\n",
       "      <th>SE</th>\n",
       "      <td>154874.098361</td>\n",
       "    </tr>\n",
       "  </tbody>\n",
       "</table>\n",
       "</div>"
      ],
      "text/plain": [
       "                         salary\n",
       "experience_level               \n",
       "EN                311231.818182\n",
       "MI                939987.166667\n",
       "SE                154874.098361"
      ]
     },
     "execution_count": 70,
     "metadata": {},
     "output_type": "execute_result"
    }
   ],
   "source": [
    "df[df[\"job_title\"]==\"Data Scientist\"].pivot_table(\"salary\",index=(\"experience_level\"))\n",
    "# veriler experience level'a göre gruplandırıldı."
   ]
  },
  {
   "cell_type": "code",
   "execution_count": 71,
   "id": "12edd080",
   "metadata": {},
   "outputs": [
    {
     "data": {
      "text/plain": [
       "<AxesSubplot:xlabel='experience_level', ylabel='salary'>"
      ]
     },
     "execution_count": 71,
     "metadata": {},
     "output_type": "execute_result"
    },
    {
     "data": {
      "image/png": "[encoded data removed]",
      "text/plain": [
       "<Figure size 432x288 with 1 Axes>"
      ]
     },
     "metadata": {
      "needs_background": "light"
     },
     "output_type": "display_data"
    }
   ],
   "source": [
    "import seaborn as sns\n",
    "sns.barplot(x=\"experience_level\",y=\"salary\",data=df[df[\"job_title\"]==\"Data Scientist\"])"
   ]
  },
  {
   "cell_type": "markdown",
   "id": "b16da710",
   "metadata": {},
   "source": [
    "##### Şirket büyüklüğünün senior level çalışanlan data scienistlerin maaşı üzerindeki etkisi"
   ]
  },
  {
   "cell_type": "code",
   "execution_count": 74,
   "id": "487b0c48",
   "metadata": {},
   "outputs": [],
   "source": [
    "senior_ds = df[(df[\"job_title\"] == \"Data Scientist\") & (df[\"experience_level\"] == \"SE\")]"
   ]
  },
  {
   "cell_type": "code",
   "execution_count": 75,
   "id": "43741354",
   "metadata": {},
   "outputs": [
    {
     "data": {
      "text/plain": [
       "company_size\n",
       "L    163868.750000\n",
       "M    154312.093023\n",
       "S     95000.000000\n",
       "Name: salary, dtype: float64"
      ]
     },
     "execution_count": 75,
     "metadata": {},
     "output_type": "execute_result"
    }
   ],
   "source": [
    "senior_ds.groupby(\"company_size\")[\"salary\"].mean()"
   ]
  },
  {
   "cell_type": "code",
   "execution_count": 76,
   "id": "88422349",
   "metadata": {},
   "outputs": [
    {
     "data": {
      "image/png": "[encoded data removed]",
      "text/plain": [
       "<Figure size 432x288 with 1 Axes>"
      ]
     },
     "metadata": {
      "needs_background": "light"
     },
     "output_type": "display_data"
    }
   ],
   "source": [
    "import matplotlib.pyplot as plt\n",
    "sns.barplot(x=\"company_size\",y=\"salary\",data=senior_ds,ci=None,)\n",
    "plt.title(\"Şirket Büyüklüğünün Senior Data Scientist Maaşına Etkisi\")\n",
    "plt.xlabel(\"Şirket Büyüklüğü\")\n",
    "plt.ylabel(\"Ortalama Maaş\")\n",
    "plt.show()"
   ]
  },
  {
   "cell_type": "markdown",
   "id": "6c407d6d",
   "metadata": {},
   "source": [
    "###### Şirket büyüklüğünün senior level çalışanlan data engineerların maaşı üzerindeki etkisi"
   ]
  },
  {
   "cell_type": "code",
   "execution_count": 78,
   "id": "1ddebcb8",
   "metadata": {},
   "outputs": [],
   "source": [
    "senior_de=df[(df[\"job_title\"]==\"Data Engineer\") &(df[\"experience_level\"]==\"SE\")]"
   ]
  },
  {
   "cell_type": "code",
   "execution_count": 79,
   "id": "37aaa96b",
   "metadata": {},
   "outputs": [
    {
     "data": {
      "image/png": "[encoded data removed]",
      "text/plain": [
       "<Figure size 432x288 with 1 Axes>"
      ]
     },
     "metadata": {
      "needs_background": "light"
     },
     "output_type": "display_data"
    }
   ],
   "source": [
    "import matplotlib.pyplot as plt\n",
    "sns.barplot(x=\"company_size\",y=\"salary\",data=senior_ds,ci=None,)\n",
    "plt.title(\"Şirket Büyüklüğünün Senior Data Engineer Maaşına Etkisi\")\n",
    "plt.xlabel(\"Şirket Büyüklüğü\")\n",
    "plt.ylabel(\"Ortalama Maaş\")\n",
    "plt.show()"
   ]
  },
  {
   "cell_type": "markdown",
   "id": "c896a4c3",
   "metadata": {},
   "source": [
    "##### Büyük şirketlerde çalışan  senior data scientist ve data engineer ların maaş karşılaştırması"
   ]
  },
  {
   "cell_type": "code",
   "execution_count": 96,
   "id": "07d85093",
   "metadata": {},
   "outputs": [],
   "source": [
    "senior_large = df[\n",
    "    (df[\"company_size\"] == \"L\") &\n",
    "    (df[\"experience_level\"] == \"SE\") &\n",
    "    (df[\"job_title\"].isin([\"Data Scientist\", \"Data Engineer\"]))\n",
    "] # burada istediğimiz veri türlerini seçtik."
   ]
  },
  {
   "cell_type": "code",
   "execution_count": 97,
   "id": "3efdcc63",
   "metadata": {},
   "outputs": [],
   "source": [
    "senior_large = senior_large.copy()\n",
    "senior_large[\"job_title_short\"] = senior_large[\"job_title\"].map({\n",
    "    \"Data Scientist\": \"DS\",\n",
    "    \"Data Engineer\": \"DE\"\n",
    "})"
   ]
  },
  {
   "cell_type": "code",
   "execution_count": 100,
   "id": "2025b78f",
   "metadata": {},
   "outputs": [
    {
     "data": {
      "image/png": "[encoded data removed]",
      "text/plain": [
       "<Figure size 432x288 with 1 Axes>"
      ]
     },
     "metadata": {
      "needs_background": "light"
     },
     "output_type": "display_data"
    }
   ],
   "source": [
    "sns.barplot(\n",
    "    x=\"job_title_short\",\n",
    "    y=\"salary\",\n",
    "    data=senior_large,\n",
    "    ci=None,\n",
    "    palette=\"muted\"\n",
    ")\n",
    "\n",
    "plt.title(\"Büyük Şirketlerde Senior Data Scientist ve Data Engineer Maaşları\")\n",
    "plt.xlabel(\"Pozisyon\")\n",
    "plt.ylabel(\"Ortalama Maaş\")\n",
    "plt.show()"
   ]
  },
  {
   "cell_type": "code",
   "execution_count": 99,
   "id": "ee025f8f",
   "metadata": {},
   "outputs": [
    {
     "data": {
      "image/png": "[encoded data removed]",
      "text/plain": [
       "<Figure size 432x288 with 1 Axes>"
      ]
     },
     "metadata": {
      "needs_background": "light"
     },
     "output_type": "display_data"
    }
   ],
   "source": [
    "sns.boxplot(\n",
    "    x=\"job_title_short\",\n",
    "    y=\"salary\",\n",
    "    data=senior_large,\n",
    "    palette=\"pastel\"\n",
    ")\n",
    "\n",
    "plt.title(\"Büyük Şirketlerde Senior Data Scientist ve Data Engineer Maaş Dağılımı\")\n",
    "plt.xlabel(\"Pozisyon\")\n",
    "plt.ylabel(\"Maaş\")\n",
    "plt.show()"
   ]
  },
  {
   "cell_type": "markdown",
   "id": "e3856e27",
   "metadata": {},
   "source": [
    "##### Amerikada yıllara göre uzaktan çalışma oranının ddeğişimi"
   ]
  },
  {
   "cell_type": "code",
   "execution_count": 46,
   "id": "f41812c9",
   "metadata": {},
   "outputs": [
    {
     "data": {
      "image/png": "[encoded data removed]",
      "text/plain": [
       "<Figure size 432x288 with 1 Axes>"
      ]
     },
     "metadata": {
      "needs_background": "light"
     },
     "output_type": "display_data"
    }
   ],
   "source": [
    "company_us = df[(df[\"company_location\"] == \"US\") & (df[\"remote_ratio\"]== 100)]\n",
    "sns.barplot(\n",
    "    x=\"work_year\",\n",
    "    y=\"remote_ratio\",\n",
    "    data=company_us,\n",
    "    ci=None,\n",
    "    palette=\"muted\"\n",
    ")\n",
    "remote_count_by_year = company_us[\"work_year\"].value_counts().sort_index() # filtreledikten sonra saydık.\n",
    "\n",
    "sns.barplot(x=remote_count_by_year.index, y=remote_count_by_year.values, palette=\"muted\")\n",
    "\n",
    "plt.title(\"ABD'de Yıllara Göre %100 Uzaktan Çalışan Sayısı\")\n",
    "plt.xlabel(\"Yıl\")\n",
    "plt.ylabel(\"Çalışan Sayısı\")\n",
    "plt.show()"
   ]
  },
  {
   "cell_type": "markdown",
   "id": "88db5c5c",
   "metadata": {},
   "source": [
    "##### Histogram grafiğinin kullanımı"
   ]
  },
  {
   "cell_type": "code",
   "execution_count": 56,
   "id": "8e328eee",
   "metadata": {},
   "outputs": [
    {
     "data": {
      "image/png": "[encoded data removed]",
      "text/plain": [
       "<Figure size 432x288 with 1 Axes>"
      ]
     },
     "metadata": {
      "needs_background": "light"
     },
     "output_type": "display_data"
    }
   ],
   "source": [
    "sns.histplot(df[df[\"company_location\"] == \"US\"][\"salary\"], bins=20, kde=True) #bins aralık sayısı, kde =kernel density estimate\n",
    "#yani verinin eğrisel dağılım tahminini çizer\n",
    "plt.title(\"ABD'de Maaş Dağılımı\")\n",
    "plt.xlabel(\"Maaş\")\n",
    "plt.ylabel(\"Kişi Sayısı\")\n",
    "plt.show()"
   ]
  },
  {
   "cell_type": "code",
   "execution_count": 60,
   "id": "9e896681",
   "metadata": {},
   "outputs": [
    {
     "data": {
      "image/png": "[encoded data removed]",
      "text/plain": [
       "<Figure size 432x288 with 1 Axes>"
      ]
     },
     "metadata": {
      "needs_background": "light"
     },
     "output_type": "display_data"
    }
   ],
   "source": [
    "sns.histplot(df[df[\"remote_ratio\"] == 100][\"salary\"], bins=5, kde=True)\n",
    "plt.title(\"Tüm ülkelerdeki %100 uzaktan çalışanların maaş dağılımı\")\n",
    "plt.xlabel(\"Maaş\")\n",
    "plt.ylabel(\"Kişi Sayısı\")\n",
    "plt.show()"
   ]
  },
  {
   "cell_type": "code",
   "execution_count": 62,
   "id": "0a61b15a",
   "metadata": {},
   "outputs": [
    {
     "data": {
      "image/png": "[encoded data removed]",
      "text/plain": [
       "<Figure size 432x288 with 1 Axes>"
      ]
     },
     "metadata": {
      "needs_background": "light"
     },
     "output_type": "display_data"
    }
   ],
   "source": [
    "sns.histplot(df[df[\"remote_ratio\"] == 0][\"salary\"], bins=5, kde=True)\n",
    "plt.title(\"Tüm ülkelerdeki uzaktan çalışmayanların maaş dağılımı\")\n",
    "plt.xlabel(\"Maaş\")\n",
    "plt.ylabel(\"Kişi Sayısı\")\n",
    "plt.show()"
   ]
  },
  {
   "cell_type": "code",
   "execution_count": 63,
   "id": "66c0bdd4",
   "metadata": {},
   "outputs": [
    {
     "data": {
      "image/png": "[encoded data removed]",
      "text/plain": [
       "<Figure size 432x288 with 1 Axes>"
      ]
     },
     "metadata": {
      "needs_background": "light"
     },
     "output_type": "display_data"
    }
   ],
   "source": [
    "sns.histplot(df[\"remote_ratio\"], bins=5)\n",
    "plt.title(\"Uzaktan Çalışma Oranı Dağılımı\")\n",
    "plt.xlabel(\"Remote Ratio (%)\")\n",
    "plt.ylabel(\"Çalışan Sayısı\")\n",
    "plt.show()\n"
   ]
  },
  {
   "cell_type": "markdown",
   "id": "cdb1679c",
   "metadata": {},
   "source": [
    "##### Scatter kullanımı"
   ]
  },
  {
   "cell_type": "code",
   "execution_count": 65,
   "id": "e0d17b5a",
   "metadata": {},
   "outputs": [
    {
     "data": {
      "text/plain": [
       "Text(0.5, 1.0, 'Deneyim Seviyesi ile Maaş İlişkisi')"
      ]
     },
     "execution_count": 65,
     "metadata": {},
     "output_type": "execute_result"
    },
    {
     "data": {
      "image/png": "[encoded data removed]",
      "text/plain": [
       "<Figure size 432x288 with 1 Axes>"
      ]
     },
     "metadata": {
      "needs_background": "light"
     },
     "output_type": "display_data"
    }
   ],
   "source": [
    "experience_map = {\"EN\": 1, \"MI\": 2, \"SE\": 3, \"EX\": 4} #kategorik verinin sayısal dönüşümü\n",
    "df[\"experience_numeric\"] = df[\"experience_level\"].map(experience_map)\n",
    "\n",
    "sns.scatterplot(x=\"experience_level\", y=\"salary\", data=df)\n",
    "plt.title(\"Deneyim Seviyesi ile Maaş İlişkisi\")"
   ]
  },
  {
   "cell_type": "code",
   "execution_count": 67,
   "id": "385ed9d1",
   "metadata": {},
   "outputs": [
    {
     "data": {
      "text/plain": [
       "Text(0.5, 1.0, 'İstihdam türü ile Maaş İlişkisi')"
      ]
     },
     "execution_count": 67,
     "metadata": {},
     "output_type": "execute_result"
    },
    {
     "data": {
      "image/png": "[encoded data removed]",
      "text/plain": [
       "<Figure size 432x288 with 1 Axes>"
      ]
     },
     "metadata": {
      "needs_background": "light"
     },
     "output_type": "display_data"
    }
   ],
   "source": [
    "employmenttype_map = {\"FT\": 1, \"PT\": 2, \"CT\": 3, \"FL\": 4}\n",
    "df[\"employmenttype_numeric\"] = df[\"employment_type\"].map(employmenttype_map)\n",
    "\n",
    "sns.scatterplot(x=\"employment_type\", y=\"salary\", data=df)\n",
    "plt.title(\"İstihdam türü ile Maaş İlişkisi\")"
   ]
  },
  {
   "cell_type": "code",
   "execution_count": 73,
   "id": "07ee1fb3",
   "metadata": {},
   "outputs": [
    {
     "data": {
      "image/png": "[encoded data removed]",
      "text/plain": [
       "<Figure size 864x432 with 1 Axes>"
      ]
     },
     "metadata": {
      "needs_background": "light"
     },
     "output_type": "display_data"
    }
   ],
   "source": [
    "import matplotlib.pyplot as plt\n",
    "import seaborn as sns\n",
    "\n",
    "plt.figure(figsize=(12, 6))  # Grafiği daha geniş yapar\n",
    "\n",
    "sns.scatterplot(x=\"work_year\", y=\"salary\", data=df)\n",
    "plt.title(\"Yıl ile Maaş İlişkisi\")\n",
    "plt.xlabel(\"Yıl\")\n",
    "plt.ylabel(\"Maaş\")\n",
    "plt.grid(True)\n",
    "plt.show()\n"
   ]
  },
  {
   "cell_type": "code",
   "execution_count": 70,
   "id": "20138a38",
   "metadata": {},
   "outputs": [
    {
     "data": {
      "text/plain": [
       "Text(0.5, 1.0, 'Uzaktan çalışma ile Maaş İlişkisi')"
      ]
     },
     "execution_count": 70,
     "metadata": {},
     "output_type": "execute_result"
    },
    {
     "data": {
      "image/png": "[encoded data removed]",
      "text/plain": [
       "<Figure size 432x288 with 1 Axes>"
      ]
     },
     "metadata": {
      "needs_background": "light"
     },
     "output_type": "display_data"
    }
   ],
   "source": [
    "sns.scatterplot(x=\"remote_ratio\", y=\"salary\", data=df)\n",
    "plt.title(\"Uzaktan çalışma ile Maaş İlişkisi\")"
   ]
  },
  {
   "cell_type": "markdown",
   "id": "581bed66",
   "metadata": {},
   "source": [
    "##### Boxplot kullanımı"
   ]
  },
  {
   "cell_type": "code",
   "execution_count": 82,
   "id": "b2133935",
   "metadata": {},
   "outputs": [
    {
     "data": {
      "image/png": "[encoded data removed]",
      "text/plain": [
       "<Figure size 432x288 with 1 Axes>"
      ]
     },
     "metadata": {
      "needs_background": "light"
     },
     "output_type": "display_data"
    }
   ],
   "source": [
    "sns.boxplot(x=df[\"salary\"])\n",
    "plt.xlim(0, 500000)\n",
    "plt.title(\"Maaş Dağılımı\")\n",
    "plt.grid(True)\n",
    "plt.show()"
   ]
  },
  {
   "cell_type": "code",
   "execution_count": 81,
   "id": "beaa02d8",
   "metadata": {},
   "outputs": [
    {
     "data": {
      "image/png": "[encoded data removed]",
      "text/plain": [
       "<Figure size 432x288 with 1 Axes>"
      ]
     },
     "metadata": {
      "needs_background": "light"
     },
     "output_type": "display_data"
    }
   ],
   "source": [
    "import seaborn as sns\n",
    "import matplotlib.pyplot as plt\n",
    "\n",
    "sns.boxplot(x=\"experience_level\", y=\"salary\", data=df)\n",
    "plt.ylim(0, 500000)\n",
    "plt.title(\"Deneyim Seviyesine Göre Maaş Dağılımı\")\n",
    "plt.xlabel(\"Deneyim Seviyesi\")\n",
    "plt.ylabel(\"Maaş\")\n",
    "plt.show()\n"
   ]
  },
  {
   "cell_type": "code",
   "execution_count": 84,
   "id": "96d57f27",
   "metadata": {},
   "outputs": [
    {
     "data": {
      "image/png": "[encoded data removed]",
      "text/plain": [
       "<Figure size 432x288 with 1 Axes>"
      ]
     },
     "metadata": {
      "needs_background": "light"
     },
     "output_type": "display_data"
    }
   ],
   "source": [
    "sns.boxplot(x=\"remote_ratio\", y=\"salary\", data=df)\n",
    "plt.ylim(0, 500000)\n",
    "plt.title(\"Uzaktan Çalışma Oranına Göre Maaş Dağılımı\")\n",
    "plt.xlabel(\"Uzaktan Çalışma\")\n",
    "plt.ylabel(\"Maaş\")\n",
    "plt.show()"
   ]
  },
  {
   "cell_type": "code",
   "execution_count": 87,
   "id": "8d57a37d",
   "metadata": {},
   "outputs": [
    {
     "data": {
      "image/png": "[encoded data removed]",
      "text/plain": [
       "<Figure size 432x288 with 1 Axes>"
      ]
     },
     "metadata": {
      "needs_background": "light"
     },
     "output_type": "display_data"
    }
   ],
   "source": [
    "sns.boxplot(x=\"employment_type\", y=\"salary\", data=df)\n",
    "plt.ylim(0, 500000)\n",
    "plt.title(\"İstihdam Türüne  Göre Maaş Dağılımı\")\n",
    "plt.xlabel(\"İstihdam Türü \")\n",
    "plt.ylabel(\"Maaş\")\n",
    "plt.show()"
   ]
  },
  {
   "cell_type": "code",
   "execution_count": 88,
   "id": "bdb9067d",
   "metadata": {},
   "outputs": [
    {
     "data": {
      "image/png": "[encoded data removed]",
      "text/plain": [
       "<Figure size 432x288 with 1 Axes>"
      ]
     },
     "metadata": {
      "needs_background": "light"
     },
     "output_type": "display_data"
    }
   ],
   "source": [
    "sns.boxplot(x=\"company_size\", y=\"salary\", data=df)\n",
    "plt.ylim(0, 500000)\n",
    "plt.title(\"Şirket Büyüklüğüne Göre Maaş Dağılımı\")\n",
    "plt.xlabel(\"Şirket Büyüklüğü\")\n",
    "plt.ylabel(\"Maaş\")\n",
    "plt.show()"
   ]
  },
  {
   "cell_type": "markdown",
   "id": "adb0187a",
   "metadata": {},
   "source": [
    "## Aykırı gözlem analizi"
   ]
  },
  {
   "cell_type": "code",
   "execution_count": 91,
   "id": "2ec7db11",
   "metadata": {},
   "outputs": [],
   "source": [
    "df_say= df.select_dtypes(include=\"int64\")"
   ]
  },
  {
   "cell_type": "code",
   "execution_count": 92,
   "id": "f8ed1359",
   "metadata": {},
   "outputs": [
    {
     "data": {
      "text/html": [
       "<div>\n",
       "<style scoped>\n",
       "    .dataframe tbody tr th:only-of-type {\n",
       "        vertical-align: middle;\n",
       "    }\n",
       "\n",
       "    .dataframe tbody tr th {\n",
       "        vertical-align: top;\n",
       "    }\n",
       "\n",
       "    .dataframe thead th {\n",
       "        text-align: right;\n",
       "    }\n",
       "</style>\n",
       "<table border=\"1\" class=\"dataframe\">\n",
       "  <thead>\n",
       "    <tr style=\"text-align: right;\">\n",
       "      <th></th>\n",
       "      <th>unnamed</th>\n",
       "      <th>work_year</th>\n",
       "      <th>salary</th>\n",
       "      <th>salary_in_usd</th>\n",
       "      <th>remote_ratio</th>\n",
       "    </tr>\n",
       "  </thead>\n",
       "  <tbody>\n",
       "    <tr>\n",
       "      <th>0</th>\n",
       "      <td>0</td>\n",
       "      <td>2020</td>\n",
       "      <td>70000</td>\n",
       "      <td>79833</td>\n",
       "      <td>0</td>\n",
       "    </tr>\n",
       "    <tr>\n",
       "      <th>1</th>\n",
       "      <td>1</td>\n",
       "      <td>2020</td>\n",
       "      <td>260000</td>\n",
       "      <td>260000</td>\n",
       "      <td>0</td>\n",
       "    </tr>\n",
       "    <tr>\n",
       "      <th>2</th>\n",
       "      <td>2</td>\n",
       "      <td>2020</td>\n",
       "      <td>85000</td>\n",
       "      <td>109024</td>\n",
       "      <td>50</td>\n",
       "    </tr>\n",
       "    <tr>\n",
       "      <th>3</th>\n",
       "      <td>3</td>\n",
       "      <td>2020</td>\n",
       "      <td>20000</td>\n",
       "      <td>20000</td>\n",
       "      <td>0</td>\n",
       "    </tr>\n",
       "    <tr>\n",
       "      <th>4</th>\n",
       "      <td>4</td>\n",
       "      <td>2020</td>\n",
       "      <td>150000</td>\n",
       "      <td>150000</td>\n",
       "      <td>50</td>\n",
       "    </tr>\n",
       "  </tbody>\n",
       "</table>\n",
       "</div>"
      ],
      "text/plain": [
       "   unnamed  work_year  salary  salary_in_usd  remote_ratio\n",
       "0        0       2020   70000          79833             0\n",
       "1        1       2020  260000         260000             0\n",
       "2        2       2020   85000         109024            50\n",
       "3        3       2020   20000          20000             0\n",
       "4        4       2020  150000         150000            50"
      ]
     },
     "execution_count": 92,
     "metadata": {},
     "output_type": "execute_result"
    }
   ],
   "source": [
    "df_say.head()"
   ]
  },
  {
   "cell_type": "code",
   "execution_count": 95,
   "id": "c04a3b1a",
   "metadata": {},
   "outputs": [
    {
     "data": {
      "text/plain": [
       "<AxesSubplot:xlabel='work_year'>"
      ]
     },
     "execution_count": 95,
     "metadata": {},
     "output_type": "execute_result"
    },
    {
     "data": {
      "image/png": "[encoded data removed]",
      "text/plain": [
       "<Figure size 432x288 with 1 Axes>"
      ]
     },
     "metadata": {
      "needs_background": "light"
     },
     "output_type": "display_data"
    }
   ],
   "source": [
    "df_work=df_say[\"work_year\"]\n",
    "sns.boxplot(x=df_work)"
   ]
  },
  {
   "cell_type": "code",
   "execution_count": 97,
   "id": "fabe52c2",
   "metadata": {},
   "outputs": [
    {
     "name": "stdout",
     "output_type": "stream",
     "text": [
      "2021.0\n",
      "2022.0\n",
      "1.0\n"
     ]
    }
   ],
   "source": [
    "Q1 = df_work.quantile(0.25)\n",
    "Q3 = df_work.quantile(0.75)\n",
    "IQR = Q3-Q1\n",
    "print(Q1)\n",
    "print(Q3)\n",
    "print(IQR)"
   ]
  },
  {
   "cell_type": "code",
   "execution_count": 99,
   "id": "b92a7f35",
   "metadata": {},
   "outputs": [
    {
     "name": "stdout",
     "output_type": "stream",
     "text": [
      "2019.5\n",
      "2023.5\n"
     ]
    }
   ],
   "source": [
    "alt_sinir = Q1- 1.5*IQR\n",
    "ust_sinir = Q3 + 1.5*IQR\n",
    "print(alt_sinir)\n",
    "print(ust_sinir)"
   ]
  },
  {
   "cell_type": "code",
   "execution_count": 100,
   "id": "d2d0d2a6",
   "metadata": {},
   "outputs": [
    {
     "data": {
      "text/plain": [
       "0      False\n",
       "1      False\n",
       "2      False\n",
       "3      False\n",
       "4      False\n",
       "       ...  \n",
       "602    False\n",
       "603    False\n",
       "604    False\n",
       "605    False\n",
       "606    False\n",
       "Name: work_year, Length: 607, dtype: bool"
      ]
     },
     "execution_count": 100,
     "metadata": {},
     "output_type": "execute_result"
    }
   ],
   "source": [
    "(df_work < alt_sinir) | (df_work > ust_sinir)"
   ]
  },
  {
   "cell_type": "code",
   "execution_count": 102,
   "id": "e8a5313d",
   "metadata": {},
   "outputs": [
    {
     "data": {
      "text/plain": [
       "Series([], Name: work_year, dtype: int64)"
      ]
     },
     "execution_count": 102,
     "metadata": {},
     "output_type": "execute_result"
    }
   ],
   "source": [
    "aykiri_tf = (df_work < alt_sinir) | (df_work > ust_sinir)\n",
    "df_work[aykiri_tf] #aykırı değerler gözlemlendi."
   ]
  },
  {
   "cell_type": "code",
   "execution_count": 103,
   "id": "c5a65097",
   "metadata": {},
   "outputs": [
    {
     "data": {
      "text/plain": [
       "<AxesSubplot:xlabel='salary'>"
      ]
     },
     "execution_count": 103,
     "metadata": {},
     "output_type": "execute_result"
    },
    {
     "data": {
      "image/png": "[encoded data removed]",
      "text/plain": [
       "<Figure size 432x288 with 1 Axes>"
      ]
     },
     "metadata": {
      "needs_background": "light"
     },
     "output_type": "display_data"
    }
   ],
   "source": [
    "df_sl=df_say[\"salary\"]\n",
    "sns.boxplot(x=df_sl)"
   ]
  },
  {
   "cell_type": "code",
   "execution_count": 105,
   "id": "4822c273",
   "metadata": {},
   "outputs": [
    {
     "name": "stdout",
     "output_type": "stream",
     "text": [
      "70000.0\n",
      "165000.0\n",
      "95000.0\n"
     ]
    }
   ],
   "source": [
    "Q1 = df_sl.quantile(0.25)\n",
    "Q3 = df_sl.quantile(0.75)\n",
    "IQR = Q3-Q1\n",
    "print(Q1)\n",
    "print(Q3)\n",
    "print(IQR)"
   ]
  },
  {
   "cell_type": "code",
   "execution_count": 106,
   "id": "37dc17a3",
   "metadata": {},
   "outputs": [
    {
     "name": "stdout",
     "output_type": "stream",
     "text": [
      "-72500.0\n",
      "307500.0\n"
     ]
    }
   ],
   "source": [
    "alt_sinir = Q1- 1.5*IQR\n",
    "ust_sinir = Q3 + 1.5*IQR\n",
    "print(alt_sinir)\n",
    "print(ust_sinir)"
   ]
  },
  {
   "cell_type": "code",
   "execution_count": 107,
   "id": "aa533ef4",
   "metadata": {},
   "outputs": [
    {
     "data": {
      "text/plain": [
       "0      False\n",
       "1      False\n",
       "2      False\n",
       "3      False\n",
       "4      False\n",
       "       ...  \n",
       "602    False\n",
       "603    False\n",
       "604    False\n",
       "605    False\n",
       "606    False\n",
       "Name: work_year, Length: 607, dtype: bool"
      ]
     },
     "execution_count": 107,
     "metadata": {},
     "output_type": "execute_result"
    }
   ],
   "source": [
    "(df_sl < alt_sinir) | (df_sl > ust_sinir)"
   ]
  },
  {
   "cell_type": "code",
   "execution_count": 108,
   "id": "836e2151",
   "metadata": {},
   "outputs": [
    {
     "data": {
      "text/plain": [
       "7      11000000\n",
       "11      3000000\n",
       "16      4450000\n",
       "18       423000\n",
       "21       450000\n",
       "25       325000\n",
       "27       720000\n",
       "33       450000\n",
       "50       450000\n",
       "63       412000\n",
       "77       400000\n",
       "92      1450000\n",
       "94      2200000\n",
       "97       450000\n",
       "102    11000000\n",
       "109     2250000\n",
       "127      700000\n",
       "129     3000000\n",
       "136     7000000\n",
       "137     8500000\n",
       "157      423000\n",
       "177    30400000\n",
       "179      420000\n",
       "180     1672000\n",
       "197     1799997\n",
       "198     4000000\n",
       "213      435000\n",
       "222     2500000\n",
       "225      416000\n",
       "230     1200000\n",
       "239     1600000\n",
       "244     1335000\n",
       "252      600000\n",
       "253     2100000\n",
       "262     1250000\n",
       "263     4900000\n",
       "285     7000000\n",
       "384     6000000\n",
       "458     1400000\n",
       "459     2400000\n",
       "463     1400000\n",
       "482      324000\n",
       "519      380000\n",
       "523      405000\n",
       "Name: salary, dtype: int64"
      ]
     },
     "execution_count": 108,
     "metadata": {},
     "output_type": "execute_result"
    }
   ],
   "source": [
    "aykiri_tf = (df_sl < alt_sinir) | (df_sl > ust_sinir)\n",
    "df_sl[aykiri_tf]"
   ]
  }
 ],
 "metadata": {
  "kernelspec": {
   "display_name": "Python 3 (ipykernel)",
   "language": "python",
   "name": "python3"
  },
  "language_info": {
   "codemirror_mode": {
    "name": "ipython",
    "version": 3
   },
   "file_extension": ".py",
   "mimetype": "text/x-python",
   "name": "python",
   "nbconvert_exporter": "python",
   "pygments_lexer": "ipython3",
   "version": "3.9.7"
  }
 },
 "nbformat": 4,
 "nbformat_minor": 5
}
